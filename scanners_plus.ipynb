{
 "cells": [
  {
   "cell_type": "markdown",
   "source": [
    "### Solution for scanners plus ####\n",
    "\n",
    "**Initialising the data**"
   ],
   "metadata": {
    "collapsed": false
   }
  },
  {
   "cell_type": "code",
   "execution_count": 1,
   "outputs": [],
   "source": [
    "import pandas as pd"
   ],
   "metadata": {
    "collapsed": false
   }
  },
  {
   "cell_type": "code",
   "execution_count": 2,
   "outputs": [
    {
     "data": {
      "text/plain": "      Price  VarCost  Weight  FixCost    CM\nHome   1600      600    0.24   800000  1000\nPro    8800     2800    0.76  2400000  6000",
      "text/html": "<div>\n<style scoped>\n    .dataframe tbody tr th:only-of-type {\n        vertical-align: middle;\n    }\n\n    .dataframe tbody tr th {\n        vertical-align: top;\n    }\n\n    .dataframe thead th {\n        text-align: right;\n    }\n</style>\n<table border=\"1\" class=\"dataframe\">\n  <thead>\n    <tr style=\"text-align: right;\">\n      <th></th>\n      <th>Price</th>\n      <th>VarCost</th>\n      <th>Weight</th>\n      <th>FixCost</th>\n      <th>CM</th>\n    </tr>\n  </thead>\n  <tbody>\n    <tr>\n      <th>Home</th>\n      <td>1600</td>\n      <td>600</td>\n      <td>0.24</td>\n      <td>800000</td>\n      <td>1000</td>\n    </tr>\n    <tr>\n      <th>Pro</th>\n      <td>8800</td>\n      <td>2800</td>\n      <td>0.76</td>\n      <td>2400000</td>\n      <td>6000</td>\n    </tr>\n  </tbody>\n</table>\n</div>"
     },
     "execution_count": 2,
     "metadata": {},
     "output_type": "execute_result"
    }
   ],
   "source": [
    "iweight = 0.24  # initial allocation weight\n",
    "\n",
    "df = pd.DataFrame([[1600, 600, iweight, 800000], [8800, 2800, 1 - iweight, 2400000]], columns=[\"Price\", \"VarCost\", \"Weight\", \"FixCost\"], index=[\"Home\", \"Pro\"])\n",
    "df = df.assign(CM=df[\"Price\"] - df[\"VarCost\"])\n",
    "df"
   ],
   "metadata": {
    "collapsed": false
   }
  },
  {
   "cell_type": "code",
   "execution_count": 3,
   "outputs": [],
   "source": [
    "oh = 1_000_000\n",
    "\n",
    "total_home_units = 2400\n",
    "total_pro_units = 1400\n",
    "\n",
    "high_home_units = 1400\n",
    "high_pro_units = 800"
   ],
   "metadata": {
    "collapsed": false
   }
  },
  {
   "cell_type": "code",
   "execution_count": 4,
   "outputs": [
    {
     "data": {
      "text/plain": "    Home  Pro\nLo  1000  600\nHi  1400  800",
      "text/html": "<div>\n<style scoped>\n    .dataframe tbody tr th:only-of-type {\n        vertical-align: middle;\n    }\n\n    .dataframe tbody tr th {\n        vertical-align: top;\n    }\n\n    .dataframe thead th {\n        text-align: right;\n    }\n</style>\n<table border=\"1\" class=\"dataframe\">\n  <thead>\n    <tr style=\"text-align: right;\">\n      <th></th>\n      <th>Home</th>\n      <th>Pro</th>\n    </tr>\n  </thead>\n  <tbody>\n    <tr>\n      <th>Lo</th>\n      <td>1000</td>\n      <td>600</td>\n    </tr>\n    <tr>\n      <th>Hi</th>\n      <td>1400</td>\n      <td>800</td>\n    </tr>\n  </tbody>\n</table>\n</div>"
     },
     "execution_count": 4,
     "metadata": {},
     "output_type": "execute_result"
    }
   ],
   "source": [
    "low_home_units = total_home_units - high_home_units\n",
    "low_pro_units = total_pro_units - high_pro_units\n",
    "\n",
    "df_units = pd.DataFrame([[low_home_units, low_pro_units], [high_home_units, high_pro_units]], index=[\"Lo\", \"Hi\"], columns=[\"Home\", \"Pro\"])\n",
    "df_units"
   ],
   "metadata": {
    "collapsed": false
   }
  },
  {
   "cell_type": "markdown",
   "source": [
    "**Answers to A and B**\n",
    "Determine the revenues"
   ],
   "metadata": {
    "collapsed": false
   }
  },
  {
   "cell_type": "code",
   "execution_count": 5,
   "outputs": [
    {
     "data": {
      "text/plain": "       Home      Pro\nLo  1600000  5280000\nHi  2240000  7040000",
      "text/html": "<div>\n<style scoped>\n    .dataframe tbody tr th:only-of-type {\n        vertical-align: middle;\n    }\n\n    .dataframe tbody tr th {\n        vertical-align: top;\n    }\n\n    .dataframe thead th {\n        text-align: right;\n    }\n</style>\n<table border=\"1\" class=\"dataframe\">\n  <thead>\n    <tr style=\"text-align: right;\">\n      <th></th>\n      <th>Home</th>\n      <th>Pro</th>\n    </tr>\n  </thead>\n  <tbody>\n    <tr>\n      <th>Lo</th>\n      <td>1600000</td>\n      <td>5280000</td>\n    </tr>\n    <tr>\n      <th>Hi</th>\n      <td>2240000</td>\n      <td>7040000</td>\n    </tr>\n  </tbody>\n</table>\n</div>"
     },
     "execution_count": 5,
     "metadata": {},
     "output_type": "execute_result"
    }
   ],
   "source": [
    "df_rev = df_units * df[\"Price\"]\n",
    "df_rev"
   ],
   "metadata": {
    "collapsed": false
   }
  },
  {
   "cell_type": "markdown",
   "source": [
    "**Answers to C**\n",
    "Determine the profits using the uni-rate system"
   ],
   "metadata": {
    "collapsed": false
   }
  },
  {
   "cell_type": "code",
   "execution_count": 6,
   "outputs": [
    {
     "data": {
      "text/plain": "        Home        Pro\nLo  -40000.0   440000.0\nHi  360000.0  1640000.0",
      "text/html": "<div>\n<style scoped>\n    .dataframe tbody tr th:only-of-type {\n        vertical-align: middle;\n    }\n\n    .dataframe tbody tr th {\n        vertical-align: top;\n    }\n\n    .dataframe thead th {\n        text-align: right;\n    }\n</style>\n<table border=\"1\" class=\"dataframe\">\n  <thead>\n    <tr style=\"text-align: right;\">\n      <th></th>\n      <th>Home</th>\n      <th>Pro</th>\n    </tr>\n  </thead>\n  <tbody>\n    <tr>\n      <th>Lo</th>\n      <td>-40000.0</td>\n      <td>440000.0</td>\n    </tr>\n    <tr>\n      <th>Hi</th>\n      <td>360000.0</td>\n      <td>1640000.0</td>\n    </tr>\n  </tbody>\n</table>\n</div>"
     },
     "execution_count": 6,
     "metadata": {},
     "output_type": "execute_result"
    }
   ],
   "source": [
    "df_c = df_units * df[\"CM\"] - df[\"FixCost\"] - df[\"Weight\"] * oh\n",
    "df_c"
   ],
   "metadata": {
    "collapsed": false
   }
  },
  {
   "cell_type": "code",
   "execution_count": 7,
   "outputs": [
    {
     "name": "stdout",
     "output_type": "stream",
     "text": [
      "|      |         0 |\n",
      "|:-----|----------:|\n",
      "| Home |   160,000 |\n",
      "| Pro  | 1,040,000 |\n"
     ]
    }
   ],
   "source": [
    "# Mean\n",
    "print(df_c.mean().to_markdown(floatfmt=\",.0f\"))"
   ],
   "metadata": {
    "collapsed": false
   }
  },
  {
   "cell_type": "code",
   "execution_count": 8,
   "outputs": [
    {
     "name": "stdout",
     "output_type": "stream",
     "text": [
      "|      |       0 |\n",
      "|:-----|--------:|\n",
      "| Home | 282,843 |\n",
      "| Pro  | 848,528 |\n"
     ]
    }
   ],
   "source": [
    "# Standard deviation\n",
    "print(df_c.std().to_markdown(floatfmt=\",.0f\"))"
   ],
   "metadata": {
    "collapsed": false
   }
  },
  {
   "cell_type": "markdown",
   "source": [
    "### The scenarios ###\n",
    "\n",
    "We need to figure out the allocations based on revenues. In order to do this, for each model we need the revenues for each scenario of High and Low revenues"
   ],
   "metadata": {
    "collapsed": false
   }
  },
  {
   "cell_type": "code",
   "execution_count": 9,
   "outputs": [
    {
     "data": {
      "text/plain": "         Home      Pro\nLoLo  1600000  5280000\nLoHi  1600000  7040000\nHiLo  2240000  5280000\nHiHi  2240000  7040000",
      "text/html": "<div>\n<style scoped>\n    .dataframe tbody tr th:only-of-type {\n        vertical-align: middle;\n    }\n\n    .dataframe tbody tr th {\n        vertical-align: top;\n    }\n\n    .dataframe thead th {\n        text-align: right;\n    }\n</style>\n<table border=\"1\" class=\"dataframe\">\n  <thead>\n    <tr style=\"text-align: right;\">\n      <th></th>\n      <th>Home</th>\n      <th>Pro</th>\n    </tr>\n  </thead>\n  <tbody>\n    <tr>\n      <th>LoLo</th>\n      <td>1600000</td>\n      <td>5280000</td>\n    </tr>\n    <tr>\n      <th>LoHi</th>\n      <td>1600000</td>\n      <td>7040000</td>\n    </tr>\n    <tr>\n      <th>HiLo</th>\n      <td>2240000</td>\n      <td>5280000</td>\n    </tr>\n    <tr>\n      <th>HiHi</th>\n      <td>2240000</td>\n      <td>7040000</td>\n    </tr>\n  </tbody>\n</table>\n</div>"
     },
     "execution_count": 9,
     "metadata": {},
     "output_type": "execute_result"
    }
   ],
   "source": [
    "df_scen = pd.merge(df_rev['Home'], df_rev['Pro'], how='cross')\n",
    "df_scen.index = ['LoLo', 'LoHi', 'HiLo', 'HiHi']\n",
    "df_scen"
   ],
   "metadata": {
    "collapsed": false
   }
  },
  {
   "cell_type": "markdown",
   "source": [
    "Determine the total revenues for each scenario and model"
   ],
   "metadata": {
    "collapsed": false
   }
  },
  {
   "cell_type": "code",
   "execution_count": 10,
   "outputs": [
    {
     "data": {
      "text/plain": "         Home      Pro    Total\nLoLo  1600000  5280000  6880000\nLoHi  1600000  7040000  8640000\nHiLo  2240000  5280000  7520000\nHiHi  2240000  7040000  9280000",
      "text/html": "<div>\n<style scoped>\n    .dataframe tbody tr th:only-of-type {\n        vertical-align: middle;\n    }\n\n    .dataframe tbody tr th {\n        vertical-align: top;\n    }\n\n    .dataframe thead th {\n        text-align: right;\n    }\n</style>\n<table border=\"1\" class=\"dataframe\">\n  <thead>\n    <tr style=\"text-align: right;\">\n      <th></th>\n      <th>Home</th>\n      <th>Pro</th>\n      <th>Total</th>\n    </tr>\n  </thead>\n  <tbody>\n    <tr>\n      <th>LoLo</th>\n      <td>1600000</td>\n      <td>5280000</td>\n      <td>6880000</td>\n    </tr>\n    <tr>\n      <th>LoHi</th>\n      <td>1600000</td>\n      <td>7040000</td>\n      <td>8640000</td>\n    </tr>\n    <tr>\n      <th>HiLo</th>\n      <td>2240000</td>\n      <td>5280000</td>\n      <td>7520000</td>\n    </tr>\n    <tr>\n      <th>HiHi</th>\n      <td>2240000</td>\n      <td>7040000</td>\n      <td>9280000</td>\n    </tr>\n  </tbody>\n</table>\n</div>"
     },
     "execution_count": 10,
     "metadata": {},
     "output_type": "execute_result"
    }
   ],
   "source": [
    "df_scen = df_scen.assign(Total=df_scen.sum(axis=1))\n",
    "df_scen"
   ],
   "metadata": {
    "collapsed": false
   }
  },
  {
   "cell_type": "markdown",
   "source": [
    "We can now determine the allocation weights by **div**iding the model revenues by the Total of revenues for each model."
   ],
   "metadata": {
    "collapsed": false
   }
  },
  {
   "cell_type": "code",
   "execution_count": 11,
   "outputs": [
    {
     "data": {
      "text/plain": "      Home   Pro\nLoLo  0.23  0.77\nLoHi  0.19  0.81\nHiLo  0.30  0.70\nHiHi  0.24  0.76",
      "text/html": "<div>\n<style scoped>\n    .dataframe tbody tr th:only-of-type {\n        vertical-align: middle;\n    }\n\n    .dataframe tbody tr th {\n        vertical-align: top;\n    }\n\n    .dataframe thead th {\n        text-align: right;\n    }\n</style>\n<table border=\"1\" class=\"dataframe\">\n  <thead>\n    <tr style=\"text-align: right;\">\n      <th></th>\n      <th>Home</th>\n      <th>Pro</th>\n    </tr>\n  </thead>\n  <tbody>\n    <tr>\n      <th>LoLo</th>\n      <td>0.23</td>\n      <td>0.77</td>\n    </tr>\n    <tr>\n      <th>LoHi</th>\n      <td>0.19</td>\n      <td>0.81</td>\n    </tr>\n    <tr>\n      <th>HiLo</th>\n      <td>0.30</td>\n      <td>0.70</td>\n    </tr>\n    <tr>\n      <th>HiHi</th>\n      <td>0.24</td>\n      <td>0.76</td>\n    </tr>\n  </tbody>\n</table>\n</div>"
     },
     "execution_count": 11,
     "metadata": {},
     "output_type": "execute_result"
    }
   ],
   "source": [
    "df_weights  =  df_scen[['Home', 'Pro']].div(df_scen['Total'], axis=0).round(2)\n",
    "df_weights"
   ],
   "metadata": {
    "collapsed": false
   }
  },
  {
   "cell_type": "markdown",
   "source": [
    "As you can see, if one model sells a lot, then it gets allocated more of the overhead.\n",
    "\n",
    "Also, if a manager of one model massively slacks, then it attracts less overhead. The overhead will be allocated to ... the other model. Uh oh! This creates an incentive to monitor the manager of the other model!\n",
    "\n",
    "---\n",
    "\n",
    "We can now determine the allocation:"
   ],
   "metadata": {
    "collapsed": false
   }
  },
  {
   "cell_type": "code",
   "execution_count": 12,
   "outputs": [
    {
     "data": {
      "text/plain": "          Home       Pro\nLoLo  230000.0  770000.0\nLoHi  190000.0  810000.0\nHiLo  300000.0  700000.0\nHiHi  240000.0  760000.0",
      "text/html": "<div>\n<style scoped>\n    .dataframe tbody tr th:only-of-type {\n        vertical-align: middle;\n    }\n\n    .dataframe tbody tr th {\n        vertical-align: top;\n    }\n\n    .dataframe thead th {\n        text-align: right;\n    }\n</style>\n<table border=\"1\" class=\"dataframe\">\n  <thead>\n    <tr style=\"text-align: right;\">\n      <th></th>\n      <th>Home</th>\n      <th>Pro</th>\n    </tr>\n  </thead>\n  <tbody>\n    <tr>\n      <th>LoLo</th>\n      <td>230000.0</td>\n      <td>770000.0</td>\n    </tr>\n    <tr>\n      <th>LoHi</th>\n      <td>190000.0</td>\n      <td>810000.0</td>\n    </tr>\n    <tr>\n      <th>HiLo</th>\n      <td>300000.0</td>\n      <td>700000.0</td>\n    </tr>\n    <tr>\n      <th>HiHi</th>\n      <td>240000.0</td>\n      <td>760000.0</td>\n    </tr>\n  </tbody>\n</table>\n</div>"
     },
     "execution_count": 12,
     "metadata": {},
     "output_type": "execute_result"
    }
   ],
   "source": [
    "df_w_alloc = df_weights * oh\n",
    "df_w_alloc"
   ],
   "metadata": {
    "collapsed": false
   }
  },
  {
   "cell_type": "markdown",
   "source": [
    "**Determine the profit before allocation**\n",
    "\n",
    "Before we allocate, we need to know the profit before allocation.\n",
    "\n",
    "Multiply the sales units matrix by the contribution margin per unit and deduct fixed costs."
   ],
   "metadata": {
    "collapsed": false
   }
  },
  {
   "cell_type": "code",
   "execution_count": 13,
   "outputs": [
    {
     "data": {
      "text/plain": "      Home      Pro\nLo  200000  1200000\nHi  600000  2400000",
      "text/html": "<div>\n<style scoped>\n    .dataframe tbody tr th:only-of-type {\n        vertical-align: middle;\n    }\n\n    .dataframe tbody tr th {\n        vertical-align: top;\n    }\n\n    .dataframe thead th {\n        text-align: right;\n    }\n</style>\n<table border=\"1\" class=\"dataframe\">\n  <thead>\n    <tr style=\"text-align: right;\">\n      <th></th>\n      <th>Home</th>\n      <th>Pro</th>\n    </tr>\n  </thead>\n  <tbody>\n    <tr>\n      <th>Lo</th>\n      <td>200000</td>\n      <td>1200000</td>\n    </tr>\n    <tr>\n      <th>Hi</th>\n      <td>600000</td>\n      <td>2400000</td>\n    </tr>\n  </tbody>\n</table>\n</div>"
     },
     "execution_count": 13,
     "metadata": {},
     "output_type": "execute_result"
    }
   ],
   "source": [
    "df_gross_profit = df_units * df[\"CM\"] - df[\"FixCost\"]\n",
    "df_gross_profit"
   ],
   "metadata": {
    "collapsed": false
   }
  },
  {
   "cell_type": "markdown",
   "source": [
    "Now let's  get the allocations for the Home model from the allocation matrix above and wrap them up in a 2 x 2 matrix:"
   ],
   "metadata": {
    "collapsed": false
   }
  },
  {
   "cell_type": "code",
   "execution_count": 14,
   "outputs": [
    {
     "data": {
      "text/plain": "             Lo        Hi\nProLo  230000.0  300000.0\nProHi  190000.0  240000.0",
      "text/html": "<div>\n<style scoped>\n    .dataframe tbody tr th:only-of-type {\n        vertical-align: middle;\n    }\n\n    .dataframe tbody tr th {\n        vertical-align: top;\n    }\n\n    .dataframe thead th {\n        text-align: right;\n    }\n</style>\n<table border=\"1\" class=\"dataframe\">\n  <thead>\n    <tr style=\"text-align: right;\">\n      <th></th>\n      <th>Lo</th>\n      <th>Hi</th>\n    </tr>\n  </thead>\n  <tbody>\n    <tr>\n      <th>ProLo</th>\n      <td>230000.0</td>\n      <td>300000.0</td>\n    </tr>\n    <tr>\n      <th>ProHi</th>\n      <td>190000.0</td>\n      <td>240000.0</td>\n    </tr>\n  </tbody>\n</table>\n</div>"
     },
     "execution_count": 14,
     "metadata": {},
     "output_type": "execute_result"
    }
   ],
   "source": [
    "df_w_alloc_home = pd.DataFrame(df_w_alloc['Home'].values.reshape(2, 2), columns=[\"ProLo\", \"ProHi\"], index=[\"Lo\", \"Hi\"]).T\n",
    "df_w_alloc_home"
   ],
   "metadata": {
    "collapsed": false
   }
  },
  {
   "cell_type": "markdown",
   "source": [
    "Lastly, deduct (**sub**tract) the allocated overhead from the profits:"
   ],
   "metadata": {
    "collapsed": false
   }
  },
  {
   "cell_type": "code",
   "execution_count": 15,
   "outputs": [
    {
     "data": {
      "text/plain": "            Lo        Hi\nProLo -30000.0  300000.0\nProHi  10000.0  360000.0",
      "text/html": "<div>\n<style scoped>\n    .dataframe tbody tr th:only-of-type {\n        vertical-align: middle;\n    }\n\n    .dataframe tbody tr th {\n        vertical-align: top;\n    }\n\n    .dataframe thead th {\n        text-align: right;\n    }\n</style>\n<table border=\"1\" class=\"dataframe\">\n  <thead>\n    <tr style=\"text-align: right;\">\n      <th></th>\n      <th>Lo</th>\n      <th>Hi</th>\n    </tr>\n  </thead>\n  <tbody>\n    <tr>\n      <th>ProLo</th>\n      <td>-30000.0</td>\n      <td>300000.0</td>\n    </tr>\n    <tr>\n      <th>ProHi</th>\n      <td>10000.0</td>\n      <td>360000.0</td>\n    </tr>\n  </tbody>\n</table>\n</div>"
     },
     "execution_count": 15,
     "metadata": {},
     "output_type": "execute_result"
    }
   ],
   "source": [
    "df_net_home = df_gross_profit['Home'].sub(df_w_alloc_home, axis=0)\n",
    "df_net_home"
   ],
   "metadata": {
    "collapsed": false
   }
  },
  {
   "cell_type": "markdown",
   "source": [
    "Do the same for the Pro model"
   ],
   "metadata": {
    "collapsed": false
   }
  },
  {
   "cell_type": "code",
   "execution_count": 16,
   "outputs": [
    {
     "data": {
      "text/plain": "              Lo         Hi\nHomeLo  430000.0  1590000.0\nHomeHi  500000.0  1640000.0",
      "text/html": "<div>\n<style scoped>\n    .dataframe tbody tr th:only-of-type {\n        vertical-align: middle;\n    }\n\n    .dataframe tbody tr th {\n        vertical-align: top;\n    }\n\n    .dataframe thead th {\n        text-align: right;\n    }\n</style>\n<table border=\"1\" class=\"dataframe\">\n  <thead>\n    <tr style=\"text-align: right;\">\n      <th></th>\n      <th>Lo</th>\n      <th>Hi</th>\n    </tr>\n  </thead>\n  <tbody>\n    <tr>\n      <th>HomeLo</th>\n      <td>430000.0</td>\n      <td>1590000.0</td>\n    </tr>\n    <tr>\n      <th>HomeHi</th>\n      <td>500000.0</td>\n      <td>1640000.0</td>\n    </tr>\n  </tbody>\n</table>\n</div>"
     },
     "execution_count": 16,
     "metadata": {},
     "output_type": "execute_result"
    }
   ],
   "source": [
    "df_w_alloc_pro =  pd.DataFrame(df_w_alloc['Pro'].values.reshape(2, 2), columns=[\"Lo\", \"Hi\"], index=[\"HomeLo\", \"HomeHi\"])\n",
    "df_net_pro = df_gross_profit['Pro'].sub(df_w_alloc_pro, axis=0)\n",
    "df_net_pro"
   ],
   "metadata": {
    "collapsed": false
   }
  },
  {
   "cell_type": "markdown",
   "source": [
    "### Analysis ###"
   ],
   "metadata": {
    "collapsed": false
   }
  },
  {
   "cell_type": "code",
   "execution_count": 17,
   "outputs": [
    {
     "data": {
      "text/plain": "Lo    -10000.0\nHi    330000.0\ndtype: float64"
     },
     "execution_count": 17,
     "metadata": {},
     "output_type": "execute_result"
    }
   ],
   "source": [
    "df_net_home.mean()"
   ],
   "metadata": {
    "collapsed": false
   }
  },
  {
   "cell_type": "code",
   "execution_count": 18,
   "outputs": [
    {
     "data": {
      "text/plain": "Lo    -40000.0\nHi    360000.0\nName: Home, dtype: float64"
     },
     "execution_count": 18,
     "metadata": {},
     "output_type": "execute_result"
    }
   ],
   "source": [
    "#  Compare to our previous result:\n",
    "df_c['Home']"
   ],
   "metadata": {
    "collapsed": false
   }
  },
  {
   "cell_type": "code",
   "execution_count": 19,
   "outputs": [
    {
     "name": "stdout",
     "output_type": "stream",
     "text": [
      "160000.0 160000.0\n"
     ]
    }
   ],
   "source": [
    "#  Compare to our previous result - overall expected profits\n",
    "print(df_net_home.stack().mean(), df_c['Home'].mean())"
   ],
   "metadata": {
    "collapsed": false
   }
  },
  {
   "cell_type": "code",
   "execution_count": 20,
   "outputs": [
    {
     "name": "stdout",
     "output_type": "stream",
     "text": [
      "Home:\n",
      "Standard deviation after weighted overhead: 198,494.\n",
      "Standard deviation after constant overhead: 282,843.\n"
     ]
    }
   ],
   "source": [
    "#  Compare to our previous result - overall expected profits\n",
    "print(f\"Home:\\nStandard deviation after weighted overhead: {df_net_home.stack().std():,.0f}.\\nStandard deviation after constant overhead: {df_c['Home'].std():,.0f}.\")"
   ],
   "metadata": {
    "collapsed": false
   }
  },
  {
   "cell_type": "code",
   "execution_count": 21,
   "outputs": [
    {
     "name": "stdout",
     "output_type": "stream",
     "text": [
      "Pro:\n",
      "Standard deviation after weighted overhead: 664,881.\n",
      "Standard deviation after constant overhead: 848,528.\n"
     ]
    }
   ],
   "source": [
    "print(f\"Pro:\\nStandard deviation after weighted overhead: {df_net_pro.stack().std():,.0f}.\\nStandard deviation after constant overhead: {df_c['Pro'].std():,.0f}.\")"
   ],
   "metadata": {
    "collapsed": false
   }
  },
  {
   "cell_type": "markdown",
   "source": [
    "---\n",
    "\n",
    "What are expected profits in case of low units?"
   ],
   "metadata": {
    "collapsed": false
   }
  },
  {
   "cell_type": "code",
   "execution_count": 22,
   "outputs": [
    {
     "name": "stdout",
     "output_type": "stream",
     "text": [
      "Home, low:\n",
      "Profits after weighted overhead: -10,000.\n",
      "SProfts after constant overhead: -40,000.\n",
      "\n",
      "Pro, low:\n",
      "Profits after weighted overhead: 465,000.\n",
      "Profts after constant overhead: 440,000.\n"
     ]
    }
   ],
   "source": [
    "print(f\"Home, low:\\nProfits after weighted overhead: {df_net_home['Lo'].mean():,.0f}.\\nSProfts after constant overhead: {df_c['Home'].loc['Lo']:,.0f}.\")\n",
    "print(f\"\\nPro, low:\\nProfits after weighted overhead: {df_net_pro['Lo'].mean():,.0f}.\\nProfts after constant overhead: {df_c['Pro'].loc['Lo']:,.0f}.\")"
   ],
   "metadata": {
    "collapsed": false
   }
  },
  {
   "cell_type": "markdown",
   "source": [
    "---\n",
    "\n",
    "What are expected profits in case of high units:"
   ],
   "metadata": {
    "collapsed": false
   }
  },
  {
   "cell_type": "code",
   "execution_count": 23,
   "outputs": [
    {
     "name": "stdout",
     "output_type": "stream",
     "text": [
      "Home, high:\n",
      "Profits after weighted overhead: 330,000.\n",
      "SProfts after constant overhead: 360,000.\n",
      "\n",
      "Pro, high:\n",
      "Profits after weighted overhead: 1,615,000.\n",
      "Profts after constant overhead: 1,640,000.\n"
     ]
    }
   ],
   "source": [
    "print(f\"Home, high:\\nProfits after weighted overhead: {df_net_home['Hi'].mean():,.0f}.\\nSProfts after constant overhead: {df_c['Home'].loc['Hi']:,.0f}.\")\n",
    "print(f\"\\nPro, high:\\nProfits after weighted overhead: {df_net_pro['Hi'].mean():,.0f}.\\nProfts after constant overhead: {df_c['Pro'].loc['Hi']:,.0f}.\")"
   ],
   "metadata": {
    "collapsed": false
   }
  }
 ],
 "metadata": {
  "kernelspec": {
   "display_name": "Python 3",
   "language": "python",
   "name": "python3"
  },
  "language_info": {
   "codemirror_mode": {
    "name": "ipython",
    "version": 2
   },
   "file_extension": ".py",
   "mimetype": "text/x-python",
   "name": "python",
   "nbconvert_exporter": "python",
   "pygments_lexer": "ipython2",
   "version": "2.7.6"
  }
 },
 "nbformat": 4,
 "nbformat_minor": 0
}
