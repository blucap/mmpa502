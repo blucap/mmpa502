{
 "cells": [
  {
   "cell_type": "markdown",
   "source": [
    "## Allocation of service departments to user departments ##\n",
    "\n",
    "---\n",
    "\n",
    "First load some modules and create some functions for formatting"
   ],
   "metadata": {
    "collapsed": false
   }
  },
  {
   "cell_type": "code",
   "execution_count": 1,
   "id": "d2e41b1c",
   "metadata": {},
   "outputs": [],
   "source": [
    "import numpy as np\n",
    "import pandas as pd\n",
    "\n",
    "def total_allocations(df, lyst):\n",
    "    df = df.copy()\n",
    "    tot_row =  df.sum(numeric_only=True)\n",
    "    tot_row.loc[lyst] = 0\n",
    "    df.loc['Total'] = tot_row\n",
    "    df['Total of rows'] = df.sum(axis=1)\n",
    "    #print(df.to_markdown(floatfmt=\",.3f\"))\n",
    "    df = df.fillna(0)\n",
    "    df.to_clipboard()\n",
    "    return df.loc[~(df==0).all(axis=1)]\n",
    "\n",
    "def direct_allocations(df):\n",
    "    df = df.copy()\n",
    "    df.loc['Total'] = df.sum(numeric_only=True)\n",
    "    df['Total'] = df.sum(axis=1)\n",
    "    df = df.fillna(0)\n",
    "    df = df.loc[~(df==0).all(axis=1)]\n",
    "    print(df.to_markdown(floatfmt=\",.3f\"))\n",
    "    df.to_clipboard()\n",
    "    return df\n",
    "\n",
    "def make_pretty(styler):\n",
    "    styler.background_gradient(axis=None, vmin=-1, vmax=1, cmap=\"Blues_r\").format(precision=2)\n",
    "    return styler\n",
    "\n",
    "\n",
    "def make_prettier(styler):\n",
    "    styler.background_gradient(axis=None, vmin=-1000, vmax=7000, cmap=\"Blues_r\").format(precision=2)\n",
    "    styler.highlight_null('white')\n",
    "    return styler\n"
   ]
  },
  {
   "cell_type": "code",
   "execution_count": null,
   "outputs": [],
   "source": [
    "# Example from Zimmerman\n",
    "dfs = pd.read_csv(\"costs_zimm.csv\").rename(columns ={'Unnamed: 0' : \"Departments\"}).set_index(\"Departments\").astype(float).dropna(how='all', axis=1).dropna(how='all')\n",
    "list(dfs)\n",
    "upstream = ['TC', 'IT']\n",
    "downstream = ['Cars', 'Trucks']\n",
    "dept_names = upstream + downstream\n",
    "dfs.style.pipe(make_pretty)\n"
   ],
   "metadata": {
    "collapsed": false
   }
  },
  {
   "cell_type": "code",
   "execution_count": null,
   "outputs": [],
   "source": [
    "# Example from my Lecture\n",
    "dfs = pd.read_csv(\"costs_lecture.csv\").rename(columns ={'Unnamed: 0' : \"Departments\"}).set_index(\"Departments\").astype(float)\n",
    "list(dfs)\n",
    "\n",
    "upstream = ['Maint', 'HR']\n",
    "downstream = ['Assembly', 'Finishing']\n",
    "dept_names = upstream + downstream\n",
    "dfs.style.pipe(make_pretty)"
   ],
   "metadata": {
    "collapsed": false
   }
  },
  {
   "cell_type": "code",
   "execution_count": null,
   "outputs": [],
   "source": [
    "# Example from Zimmerman: fidelity\n",
    "dfs = pd.read_csv(\"cost_fidelity.csv\").rename(columns ={'Unnamed: 0' : \"Departments\"}).set_index(\"Departments\").astype(float)\n",
    "dfs\n",
    "list(dfs)\n",
    "\n",
    "upstream = ['Telco', 'Info', 'Build', 'TrainDevt', 'HR']\n",
    "downstream = ['Retail', 'Commercial', 'Credit']\n",
    "dept_names = upstream + downstream\n",
    "dfs.style.pipe(make_pretty)"
   ],
   "metadata": {
    "collapsed": false
   }
  },
  {
   "cell_type": "code",
   "execution_count": null,
   "outputs": [],
   "source": [
    "# Example from Zimmerman: Murray\n",
    "dfs = pd.read_csv(\"costs_murray.csv\").rename(columns ={'Unnamed: 0' : \"Departments\"}).set_index(\"Departments\").astype(float)\n",
    "dfs\n",
    "list(dfs)\n",
    "\n",
    "upstream = ['A', 'B', 'C']\n",
    "downstream = ['D1', 'D2', 'D3']\n",
    "dept_names = upstream + downstream\n",
    "dfs.style.pipe(make_pretty)\n"
   ],
   "metadata": {
    "collapsed": false
   }
  },
  {
   "cell_type": "code",
   "execution_count": null,
   "outputs": [],
   "source": [
    "# Example from Zimmerman: Dovovan Water first\n",
    "dfs = pd.read_csv(\"costs_donovan_water.csv\").rename(columns ={'Unnamed: 0' : \"Departments\"}).set_index(\"Departments\").astype(float)\n",
    "dfs\n",
    "list(dfs)\n",
    "\n",
    "upstream = ['Water','Electricity']\n",
    "downstream = ['Ingots', 'Steel']\n",
    "dept_names = upstream + downstream\n",
    "dfs.style.pipe(make_pretty)"
   ],
   "metadata": {
    "collapsed": false
   }
  },
  {
   "cell_type": "code",
   "execution_count": null,
   "outputs": [],
   "source": [
    "# Example from Zimmerman: Dovovan Electricity first\n",
    "dfs = pd.read_csv(\"costs_donovan_elec.csv\").rename(columns ={'Unnamed: 0' : \"Departments\"}).set_index(\"Departments\").astype(float)\n",
    "dfs\n",
    "list(dfs)\n",
    "\n",
    "upstream = ['Electricity', 'Water']\n",
    "downstream = ['Ingots', 'Steel']\n",
    "dept_names = upstream + downstream\n",
    "dfs.style.pipe(make_pretty)"
   ],
   "metadata": {
    "collapsed": false
   }
  },
  {
   "cell_type": "code",
   "execution_count": 2,
   "outputs": [
    {
     "data": {
      "text/plain": "<pandas.io.formats.style.Styler at 0x7ff2bc04b8b0>",
      "text/html": "<style type=\"text/css\">\n#T_71ca6_row0_col0, #T_71ca6_row0_col1, #T_71ca6_row0_col2, #T_71ca6_row0_col3, #T_71ca6_row0_col4, #T_71ca6_row0_col5, #T_71ca6_row0_col6, #T_71ca6_row5_col4, #T_71ca6_row6_col5, #T_71ca6_row7_col6 {\n  background-color: #f7fbff;\n  color: #000000;\n}\n#T_71ca6_row1_col0, #T_71ca6_row2_col1, #T_71ca6_row3_col2, #T_71ca6_row4_col3 {\n  background-color: #08306b;\n  color: #f1f1f1;\n}\n#T_71ca6_row1_col1, #T_71ca6_row2_col3, #T_71ca6_row4_col2 {\n  background-color: #8abfdd;\n  color: #000000;\n}\n#T_71ca6_row1_col2, #T_71ca6_row2_col0 {\n  background-color: #9fcae1;\n  color: #000000;\n}\n#T_71ca6_row1_col3, #T_71ca6_row3_col1, #T_71ca6_row4_col0 {\n  background-color: #7fb9da;\n  color: #000000;\n}\n#T_71ca6_row1_col4 {\n  background-color: #b7d4ea;\n  color: #000000;\n}\n#T_71ca6_row1_col5, #T_71ca6_row1_col6, #T_71ca6_row2_col6, #T_71ca6_row3_col3, #T_71ca6_row4_col1, #T_71ca6_row4_col4 {\n  background-color: #75b4d8;\n  color: #000000;\n}\n#T_71ca6_row2_col2, #T_71ca6_row3_col0, #T_71ca6_row3_col6 {\n  background-color: #94c4df;\n  color: #000000;\n}\n#T_71ca6_row2_col4, #T_71ca6_row4_col5 {\n  background-color: #aed1e7;\n  color: #000000;\n}\n#T_71ca6_row2_col5, #T_71ca6_row3_col4, #T_71ca6_row5_col0, #T_71ca6_row5_col1, #T_71ca6_row5_col2, #T_71ca6_row5_col3, #T_71ca6_row5_col5, #T_71ca6_row5_col6, #T_71ca6_row6_col0, #T_71ca6_row6_col1, #T_71ca6_row6_col2, #T_71ca6_row6_col3, #T_71ca6_row6_col4, #T_71ca6_row6_col6, #T_71ca6_row7_col0, #T_71ca6_row7_col1, #T_71ca6_row7_col2, #T_71ca6_row7_col3, #T_71ca6_row7_col4, #T_71ca6_row7_col5 {\n  background-color: #6caed6;\n  color: #f1f1f1;\n}\n#T_71ca6_row3_col5 {\n  background-color: #bed8ec;\n  color: #000000;\n}\n#T_71ca6_row4_col6 {\n  background-color: #a6cee4;\n  color: #000000;\n}\n</style>\n<table id=\"T_71ca6\">\n  <thead>\n    <tr>\n      <th class=\"blank level0\" >&nbsp;</th>\n      <th id=\"T_71ca6_level0_col0\" class=\"col_heading level0 col0\" >HR</th>\n      <th id=\"T_71ca6_level0_col1\" class=\"col_heading level0 col1\" >PD</th>\n      <th id=\"T_71ca6_level0_col2\" class=\"col_heading level0 col2\" >IT</th>\n      <th id=\"T_71ca6_level0_col3\" class=\"col_heading level0 col3\" >MA</th>\n      <th id=\"T_71ca6_level0_col4\" class=\"col_heading level0 col4\" >LT</th>\n      <th id=\"T_71ca6_level0_col5\" class=\"col_heading level0 col5\" >VG</th>\n      <th id=\"T_71ca6_level0_col6\" class=\"col_heading level0 col6\" >ER</th>\n    </tr>\n    <tr>\n      <th class=\"index_name level0\" >Departments</th>\n      <th class=\"blank col0\" >&nbsp;</th>\n      <th class=\"blank col1\" >&nbsp;</th>\n      <th class=\"blank col2\" >&nbsp;</th>\n      <th class=\"blank col3\" >&nbsp;</th>\n      <th class=\"blank col4\" >&nbsp;</th>\n      <th class=\"blank col5\" >&nbsp;</th>\n      <th class=\"blank col6\" >&nbsp;</th>\n    </tr>\n  </thead>\n  <tbody>\n    <tr>\n      <th id=\"T_71ca6_level0_row0\" class=\"row_heading level0 row0\" >Cost</th>\n      <td id=\"T_71ca6_row0_col0\" class=\"data row0 col0\" >800000.00</td>\n      <td id=\"T_71ca6_row0_col1\" class=\"data row0 col1\" >600000.00</td>\n      <td id=\"T_71ca6_row0_col2\" class=\"data row0 col2\" >400000.00</td>\n      <td id=\"T_71ca6_row0_col3\" class=\"data row0 col3\" >200000.00</td>\n      <td id=\"T_71ca6_row0_col4\" class=\"data row0 col4\" >2000000.00</td>\n      <td id=\"T_71ca6_row0_col5\" class=\"data row0 col5\" >1800000.00</td>\n      <td id=\"T_71ca6_row0_col6\" class=\"data row0 col6\" >1200000.00</td>\n    </tr>\n    <tr>\n      <th id=\"T_71ca6_level0_row1\" class=\"row_heading level0 row1\" >HR</th>\n      <td id=\"T_71ca6_row1_col0\" class=\"data row1 col0\" >-1.00</td>\n      <td id=\"T_71ca6_row1_col1\" class=\"data row1 col1\" >0.15</td>\n      <td id=\"T_71ca6_row1_col2\" class=\"data row1 col2\" >0.25</td>\n      <td id=\"T_71ca6_row1_col3\" class=\"data row1 col3\" >0.10</td>\n      <td id=\"T_71ca6_row1_col4\" class=\"data row1 col4\" >0.40</td>\n      <td id=\"T_71ca6_row1_col5\" class=\"data row1 col5\" >0.05</td>\n      <td id=\"T_71ca6_row1_col6\" class=\"data row1 col6\" >0.05</td>\n    </tr>\n    <tr>\n      <th id=\"T_71ca6_level0_row2\" class=\"row_heading level0 row2\" >PD</th>\n      <td id=\"T_71ca6_row2_col0\" class=\"data row2 col0\" >0.25</td>\n      <td id=\"T_71ca6_row2_col1\" class=\"data row2 col1\" >-1.00</td>\n      <td id=\"T_71ca6_row2_col2\" class=\"data row2 col2\" >0.20</td>\n      <td id=\"T_71ca6_row2_col3\" class=\"data row2 col3\" >0.15</td>\n      <td id=\"T_71ca6_row2_col4\" class=\"data row2 col4\" >0.35</td>\n      <td id=\"T_71ca6_row2_col5\" class=\"data row2 col5\" >0.00</td>\n      <td id=\"T_71ca6_row2_col6\" class=\"data row2 col6\" >0.05</td>\n    </tr>\n    <tr>\n      <th id=\"T_71ca6_level0_row3\" class=\"row_heading level0 row3\" >IT</th>\n      <td id=\"T_71ca6_row3_col0\" class=\"data row3 col0\" >0.20</td>\n      <td id=\"T_71ca6_row3_col1\" class=\"data row3 col1\" >0.10</td>\n      <td id=\"T_71ca6_row3_col2\" class=\"data row3 col2\" >-1.00</td>\n      <td id=\"T_71ca6_row3_col3\" class=\"data row3 col3\" >0.05</td>\n      <td id=\"T_71ca6_row3_col4\" class=\"data row3 col4\" >0.00</td>\n      <td id=\"T_71ca6_row3_col5\" class=\"data row3 col5\" >0.45</td>\n      <td id=\"T_71ca6_row3_col6\" class=\"data row3 col6\" >0.20</td>\n    </tr>\n    <tr>\n      <th id=\"T_71ca6_level0_row4\" class=\"row_heading level0 row4\" >MA</th>\n      <td id=\"T_71ca6_row4_col0\" class=\"data row4 col0\" >0.10</td>\n      <td id=\"T_71ca6_row4_col1\" class=\"data row4 col1\" >0.05</td>\n      <td id=\"T_71ca6_row4_col2\" class=\"data row4 col2\" >0.15</td>\n      <td id=\"T_71ca6_row4_col3\" class=\"data row4 col3\" >-1.00</td>\n      <td id=\"T_71ca6_row4_col4\" class=\"data row4 col4\" >0.05</td>\n      <td id=\"T_71ca6_row4_col5\" class=\"data row4 col5\" >0.35</td>\n      <td id=\"T_71ca6_row4_col6\" class=\"data row4 col6\" >0.30</td>\n    </tr>\n    <tr>\n      <th id=\"T_71ca6_level0_row5\" class=\"row_heading level0 row5\" >LT</th>\n      <td id=\"T_71ca6_row5_col0\" class=\"data row5 col0\" >0.00</td>\n      <td id=\"T_71ca6_row5_col1\" class=\"data row5 col1\" >0.00</td>\n      <td id=\"T_71ca6_row5_col2\" class=\"data row5 col2\" >0.00</td>\n      <td id=\"T_71ca6_row5_col3\" class=\"data row5 col3\" >0.00</td>\n      <td id=\"T_71ca6_row5_col4\" class=\"data row5 col4\" >1.00</td>\n      <td id=\"T_71ca6_row5_col5\" class=\"data row5 col5\" >0.00</td>\n      <td id=\"T_71ca6_row5_col6\" class=\"data row5 col6\" >0.00</td>\n    </tr>\n    <tr>\n      <th id=\"T_71ca6_level0_row6\" class=\"row_heading level0 row6\" >VG</th>\n      <td id=\"T_71ca6_row6_col0\" class=\"data row6 col0\" >0.00</td>\n      <td id=\"T_71ca6_row6_col1\" class=\"data row6 col1\" >0.00</td>\n      <td id=\"T_71ca6_row6_col2\" class=\"data row6 col2\" >0.00</td>\n      <td id=\"T_71ca6_row6_col3\" class=\"data row6 col3\" >0.00</td>\n      <td id=\"T_71ca6_row6_col4\" class=\"data row6 col4\" >0.00</td>\n      <td id=\"T_71ca6_row6_col5\" class=\"data row6 col5\" >1.00</td>\n      <td id=\"T_71ca6_row6_col6\" class=\"data row6 col6\" >0.00</td>\n    </tr>\n    <tr>\n      <th id=\"T_71ca6_level0_row7\" class=\"row_heading level0 row7\" >ER</th>\n      <td id=\"T_71ca6_row7_col0\" class=\"data row7 col0\" >0.00</td>\n      <td id=\"T_71ca6_row7_col1\" class=\"data row7 col1\" >0.00</td>\n      <td id=\"T_71ca6_row7_col2\" class=\"data row7 col2\" >0.00</td>\n      <td id=\"T_71ca6_row7_col3\" class=\"data row7 col3\" >0.00</td>\n      <td id=\"T_71ca6_row7_col4\" class=\"data row7 col4\" >0.00</td>\n      <td id=\"T_71ca6_row7_col5\" class=\"data row7 col5\" >0.00</td>\n      <td id=\"T_71ca6_row7_col6\" class=\"data row7 col6\" >1.00</td>\n    </tr>\n  </tbody>\n</table>\n"
     },
     "execution_count": 2,
     "metadata": {},
     "output_type": "execute_result"
    }
   ],
   "source": [
    "# Example from Schoute (VU)\n",
    "dfs = pd.read_csv(\"costs.csv\").rename(columns ={'Unnamed: 0' : \"Departments\"}).set_index(\"Departments\")\n",
    "list(dfs)\n",
    "upstream = ['HR', 'PD', 'IT', 'MA']\n",
    "downstream = ['LT', 'VG', 'ER']\n",
    "dept_names = upstream + downstream\n",
    "dfs.style.pipe(make_pretty)\n"
   ],
   "metadata": {
    "collapsed": false
   }
  },
  {
   "cell_type": "markdown",
   "source": [
    "So, HR's cost are allocated to the departments downstream (actually to the right). 15 percent goes to PD, 25 percent to IT, ... and 5 percent to ER."
   ],
   "metadata": {
    "collapsed": false
   }
  },
  {
   "cell_type": "markdown",
   "source": [
    "### Direct Method ###\n",
    "\n",
    "---\n",
    "\n",
    "First make a vector with the cost data from the upper row of the table above:"
   ],
   "metadata": {
    "collapsed": false
   }
  },
  {
   "cell_type": "code",
   "execution_count": 3,
   "id": "5289a948",
   "metadata": {},
   "outputs": [
    {
     "data": {
      "text/plain": "HR     800.0\nPD     600.0\nIT     400.0\nMA     200.0\nLT    2000.0\nVG    1800.0\nER    1200.0\nName: Cost, dtype: float64"
     },
     "execution_count": 3,
     "metadata": {},
     "output_type": "execute_result"
    }
   ],
   "source": [
    "df_cost = dfs[dept_names].loc[\"Cost\"].mul(0.001)\n",
    "df_cost"
   ]
  },
  {
   "cell_type": "markdown",
   "source": [
    "Make a matrix with the weights from the lower rows of the table above, i.e., **only** for the downstream user departments. This is typical for the direct method."
   ],
   "metadata": {
    "collapsed": false
   }
  },
  {
   "cell_type": "code",
   "execution_count": 4,
   "id": "4c86fed8",
   "metadata": {},
   "outputs": [
    {
     "data": {
      "text/plain": "<pandas.io.formats.style.Styler at 0x7ff2adfdf910>",
      "text/html": "<style type=\"text/css\">\n#T_83aca_row0_col0 {\n  background-color: #b7d4ea;\n  color: #000000;\n}\n#T_83aca_row0_col1, #T_83aca_row0_col2, #T_83aca_row1_col2, #T_83aca_row3_col0 {\n  background-color: #75b4d8;\n  color: #000000;\n}\n#T_83aca_row1_col0, #T_83aca_row3_col1 {\n  background-color: #aed1e7;\n  color: #000000;\n}\n#T_83aca_row1_col1, #T_83aca_row2_col0, #T_83aca_row4_col1, #T_83aca_row4_col2, #T_83aca_row5_col0, #T_83aca_row5_col2, #T_83aca_row6_col0, #T_83aca_row6_col1 {\n  background-color: #6caed6;\n  color: #f1f1f1;\n}\n#T_83aca_row2_col1 {\n  background-color: #bed8ec;\n  color: #000000;\n}\n#T_83aca_row2_col2 {\n  background-color: #94c4df;\n  color: #000000;\n}\n#T_83aca_row3_col2 {\n  background-color: #a6cee4;\n  color: #000000;\n}\n#T_83aca_row4_col0, #T_83aca_row5_col1, #T_83aca_row6_col2 {\n  background-color: #f7fbff;\n  color: #000000;\n}\n</style>\n<table id=\"T_83aca\">\n  <thead>\n    <tr>\n      <th class=\"blank level0\" >&nbsp;</th>\n      <th id=\"T_83aca_level0_col0\" class=\"col_heading level0 col0\" >LT</th>\n      <th id=\"T_83aca_level0_col1\" class=\"col_heading level0 col1\" >VG</th>\n      <th id=\"T_83aca_level0_col2\" class=\"col_heading level0 col2\" >ER</th>\n    </tr>\n    <tr>\n      <th class=\"index_name level0\" >Departments</th>\n      <th class=\"blank col0\" >&nbsp;</th>\n      <th class=\"blank col1\" >&nbsp;</th>\n      <th class=\"blank col2\" >&nbsp;</th>\n    </tr>\n  </thead>\n  <tbody>\n    <tr>\n      <th id=\"T_83aca_level0_row0\" class=\"row_heading level0 row0\" >HR</th>\n      <td id=\"T_83aca_row0_col0\" class=\"data row0 col0\" >0.40</td>\n      <td id=\"T_83aca_row0_col1\" class=\"data row0 col1\" >0.05</td>\n      <td id=\"T_83aca_row0_col2\" class=\"data row0 col2\" >0.05</td>\n    </tr>\n    <tr>\n      <th id=\"T_83aca_level0_row1\" class=\"row_heading level0 row1\" >PD</th>\n      <td id=\"T_83aca_row1_col0\" class=\"data row1 col0\" >0.35</td>\n      <td id=\"T_83aca_row1_col1\" class=\"data row1 col1\" >0.00</td>\n      <td id=\"T_83aca_row1_col2\" class=\"data row1 col2\" >0.05</td>\n    </tr>\n    <tr>\n      <th id=\"T_83aca_level0_row2\" class=\"row_heading level0 row2\" >IT</th>\n      <td id=\"T_83aca_row2_col0\" class=\"data row2 col0\" >0.00</td>\n      <td id=\"T_83aca_row2_col1\" class=\"data row2 col1\" >0.45</td>\n      <td id=\"T_83aca_row2_col2\" class=\"data row2 col2\" >0.20</td>\n    </tr>\n    <tr>\n      <th id=\"T_83aca_level0_row3\" class=\"row_heading level0 row3\" >MA</th>\n      <td id=\"T_83aca_row3_col0\" class=\"data row3 col0\" >0.05</td>\n      <td id=\"T_83aca_row3_col1\" class=\"data row3 col1\" >0.35</td>\n      <td id=\"T_83aca_row3_col2\" class=\"data row3 col2\" >0.30</td>\n    </tr>\n    <tr>\n      <th id=\"T_83aca_level0_row4\" class=\"row_heading level0 row4\" >LT</th>\n      <td id=\"T_83aca_row4_col0\" class=\"data row4 col0\" >1.00</td>\n      <td id=\"T_83aca_row4_col1\" class=\"data row4 col1\" >0.00</td>\n      <td id=\"T_83aca_row4_col2\" class=\"data row4 col2\" >0.00</td>\n    </tr>\n    <tr>\n      <th id=\"T_83aca_level0_row5\" class=\"row_heading level0 row5\" >VG</th>\n      <td id=\"T_83aca_row5_col0\" class=\"data row5 col0\" >0.00</td>\n      <td id=\"T_83aca_row5_col1\" class=\"data row5 col1\" >1.00</td>\n      <td id=\"T_83aca_row5_col2\" class=\"data row5 col2\" >0.00</td>\n    </tr>\n    <tr>\n      <th id=\"T_83aca_level0_row6\" class=\"row_heading level0 row6\" >ER</th>\n      <td id=\"T_83aca_row6_col0\" class=\"data row6 col0\" >0.00</td>\n      <td id=\"T_83aca_row6_col1\" class=\"data row6 col1\" >0.00</td>\n      <td id=\"T_83aca_row6_col2\" class=\"data row6 col2\" >1.00</td>\n    </tr>\n  </tbody>\n</table>\n"
     },
     "execution_count": 4,
     "metadata": {},
     "output_type": "execute_result"
    }
   ],
   "source": [
    "df_wght_matrix = dfs[downstream].loc[dept_names]\n",
    "df_wght_matrix.style.pipe(make_pretty)"
   ]
  },
  {
   "cell_type": "markdown",
   "source": [
    "Then re-weigh the weights so that they sum up to 100%:"
   ],
   "metadata": {
    "collapsed": false
   }
  },
  {
   "cell_type": "code",
   "execution_count": 5,
   "outputs": [
    {
     "data": {
      "text/plain": "<pandas.io.formats.style.Styler at 0x7ff2bf0d5610>",
      "text/html": "<style type=\"text/css\">\n#T_97699_row0_col0 {\n  background-color: #e3eef9;\n  color: #000000;\n}\n#T_97699_row0_col1, #T_97699_row0_col2 {\n  background-color: #7fb9da;\n  color: #000000;\n}\n#T_97699_row1_col0 {\n  background-color: #ebf3fb;\n  color: #000000;\n}\n#T_97699_row1_col1, #T_97699_row2_col0, #T_97699_row4_col1, #T_97699_row4_col2, #T_97699_row5_col0, #T_97699_row5_col2, #T_97699_row6_col0, #T_97699_row6_col1 {\n  background-color: #6caed6;\n  color: #f1f1f1;\n}\n#T_97699_row1_col2 {\n  background-color: #85bcdc;\n  color: #000000;\n}\n#T_97699_row2_col1 {\n  background-color: #d9e7f5;\n  color: #000000;\n}\n#T_97699_row2_col2 {\n  background-color: #a8cee4;\n  color: #000000;\n}\n#T_97699_row3_col0 {\n  background-color: #7ab6d9;\n  color: #000000;\n}\n#T_97699_row3_col1 {\n  background-color: #c7dbef;\n  color: #000000;\n}\n#T_97699_row3_col2 {\n  background-color: #bad6eb;\n  color: #000000;\n}\n#T_97699_row4_col0, #T_97699_row5_col1, #T_97699_row6_col2 {\n  background-color: #f7fbff;\n  color: #000000;\n}\n</style>\n<table id=\"T_97699\">\n  <thead>\n    <tr>\n      <th class=\"blank level0\" >&nbsp;</th>\n      <th id=\"T_97699_level0_col0\" class=\"col_heading level0 col0\" >LT</th>\n      <th id=\"T_97699_level0_col1\" class=\"col_heading level0 col1\" >VG</th>\n      <th id=\"T_97699_level0_col2\" class=\"col_heading level0 col2\" >ER</th>\n    </tr>\n    <tr>\n      <th class=\"index_name level0\" >Departments</th>\n      <th class=\"blank col0\" >&nbsp;</th>\n      <th class=\"blank col1\" >&nbsp;</th>\n      <th class=\"blank col2\" >&nbsp;</th>\n    </tr>\n  </thead>\n  <tbody>\n    <tr>\n      <th id=\"T_97699_level0_row0\" class=\"row_heading level0 row0\" >HR</th>\n      <td id=\"T_97699_row0_col0\" class=\"data row0 col0\" >0.80</td>\n      <td id=\"T_97699_row0_col1\" class=\"data row0 col1\" >0.10</td>\n      <td id=\"T_97699_row0_col2\" class=\"data row0 col2\" >0.10</td>\n    </tr>\n    <tr>\n      <th id=\"T_97699_level0_row1\" class=\"row_heading level0 row1\" >PD</th>\n      <td id=\"T_97699_row1_col0\" class=\"data row1 col0\" >0.88</td>\n      <td id=\"T_97699_row1_col1\" class=\"data row1 col1\" >0.00</td>\n      <td id=\"T_97699_row1_col2\" class=\"data row1 col2\" >0.13</td>\n    </tr>\n    <tr>\n      <th id=\"T_97699_level0_row2\" class=\"row_heading level0 row2\" >IT</th>\n      <td id=\"T_97699_row2_col0\" class=\"data row2 col0\" >0.00</td>\n      <td id=\"T_97699_row2_col1\" class=\"data row2 col1\" >0.69</td>\n      <td id=\"T_97699_row2_col2\" class=\"data row2 col2\" >0.31</td>\n    </tr>\n    <tr>\n      <th id=\"T_97699_level0_row3\" class=\"row_heading level0 row3\" >MA</th>\n      <td id=\"T_97699_row3_col0\" class=\"data row3 col0\" >0.07</td>\n      <td id=\"T_97699_row3_col1\" class=\"data row3 col1\" >0.50</td>\n      <td id=\"T_97699_row3_col2\" class=\"data row3 col2\" >0.43</td>\n    </tr>\n    <tr>\n      <th id=\"T_97699_level0_row4\" class=\"row_heading level0 row4\" >LT</th>\n      <td id=\"T_97699_row4_col0\" class=\"data row4 col0\" >1.00</td>\n      <td id=\"T_97699_row4_col1\" class=\"data row4 col1\" >0.00</td>\n      <td id=\"T_97699_row4_col2\" class=\"data row4 col2\" >0.00</td>\n    </tr>\n    <tr>\n      <th id=\"T_97699_level0_row5\" class=\"row_heading level0 row5\" >VG</th>\n      <td id=\"T_97699_row5_col0\" class=\"data row5 col0\" >0.00</td>\n      <td id=\"T_97699_row5_col1\" class=\"data row5 col1\" >1.00</td>\n      <td id=\"T_97699_row5_col2\" class=\"data row5 col2\" >0.00</td>\n    </tr>\n    <tr>\n      <th id=\"T_97699_level0_row6\" class=\"row_heading level0 row6\" >ER</th>\n      <td id=\"T_97699_row6_col0\" class=\"data row6 col0\" >0.00</td>\n      <td id=\"T_97699_row6_col1\" class=\"data row6 col1\" >0.00</td>\n      <td id=\"T_97699_row6_col2\" class=\"data row6 col2\" >1.00</td>\n    </tr>\n  </tbody>\n</table>\n"
     },
     "execution_count": 5,
     "metadata": {},
     "output_type": "execute_result"
    }
   ],
   "source": [
    "df_wght_matrix = df_wght_matrix.assign(Total =  df_wght_matrix.sum(axis=1))\n",
    "df_wght_matrix = df_wght_matrix[downstream].div(df_wght_matrix[\"Total\"], axis=0)\n",
    "df_wght_matrix.dropna(how='all').style.pipe(make_pretty)"
   ],
   "metadata": {
    "collapsed": false
   }
  },
  {
   "cell_type": "markdown",
   "source": [
    "As you can see, all user departments are allocated 100 percent of the service departments:"
   ],
   "metadata": {
    "collapsed": false
   }
  },
  {
   "cell_type": "code",
   "execution_count": 6,
   "outputs": [
    {
     "data": {
      "text/plain": "Departments\nHR    1.0\nPD    1.0\nIT    1.0\nMA    1.0\nLT    1.0\nVG    1.0\nER    1.0\ndtype: float64"
     },
     "execution_count": 6,
     "metadata": {},
     "output_type": "execute_result"
    }
   ],
   "source": [
    "df_wght_matrix.sum(axis=1)"
   ],
   "metadata": {
    "collapsed": false
   }
  },
  {
   "cell_type": "markdown",
   "source": [
    "---\n",
    "\n",
    "Lastly: **allocate** by multipling the keys by the cost vector:"
   ],
   "metadata": {
    "collapsed": false
   }
  },
  {
   "cell_type": "code",
   "execution_count": 7,
   "outputs": [
    {
     "data": {
      "text/plain": "                      LT           VG           ER\nDepartments                                       \nHR            640.000000    80.000000    80.000000\nPD            525.000000     0.000000    75.000000\nIT              0.000000   276.923077   123.076923\nMA             14.285714   100.000000    85.714286\nLT           2000.000000     0.000000     0.000000\nVG              0.000000  1800.000000     0.000000\nER              0.000000     0.000000  1200.000000",
      "text/html": "<div>\n<style scoped>\n    .dataframe tbody tr th:only-of-type {\n        vertical-align: middle;\n    }\n\n    .dataframe tbody tr th {\n        vertical-align: top;\n    }\n\n    .dataframe thead th {\n        text-align: right;\n    }\n</style>\n<table border=\"1\" class=\"dataframe\">\n  <thead>\n    <tr style=\"text-align: right;\">\n      <th></th>\n      <th>LT</th>\n      <th>VG</th>\n      <th>ER</th>\n    </tr>\n    <tr>\n      <th>Departments</th>\n      <th></th>\n      <th></th>\n      <th></th>\n    </tr>\n  </thead>\n  <tbody>\n    <tr>\n      <th>HR</th>\n      <td>640.000000</td>\n      <td>80.000000</td>\n      <td>80.000000</td>\n    </tr>\n    <tr>\n      <th>PD</th>\n      <td>525.000000</td>\n      <td>0.000000</td>\n      <td>75.000000</td>\n    </tr>\n    <tr>\n      <th>IT</th>\n      <td>0.000000</td>\n      <td>276.923077</td>\n      <td>123.076923</td>\n    </tr>\n    <tr>\n      <th>MA</th>\n      <td>14.285714</td>\n      <td>100.000000</td>\n      <td>85.714286</td>\n    </tr>\n    <tr>\n      <th>LT</th>\n      <td>2000.000000</td>\n      <td>0.000000</td>\n      <td>0.000000</td>\n    </tr>\n    <tr>\n      <th>VG</th>\n      <td>0.000000</td>\n      <td>1800.000000</td>\n      <td>0.000000</td>\n    </tr>\n    <tr>\n      <th>ER</th>\n      <td>0.000000</td>\n      <td>0.000000</td>\n      <td>1200.000000</td>\n    </tr>\n  </tbody>\n</table>\n</div>"
     },
     "execution_count": 7,
     "metadata": {},
     "output_type": "execute_result"
    }
   ],
   "source": [
    "df_direct = df_wght_matrix[downstream].mul(df_cost, axis=0)\n",
    "df_direct"
   ],
   "metadata": {
    "collapsed": false
   }
  },
  {
   "cell_type": "markdown",
   "source": [
    "Make pretty"
   ],
   "metadata": {
    "collapsed": false
   }
  },
  {
   "cell_type": "code",
   "execution_count": 8,
   "outputs": [
    {
     "name": "stdout",
     "output_type": "stream",
     "text": [
      "| Departments   |            LT |            VG |            ER |         Total |\n",
      "|:--------------|--------------:|--------------:|--------------:|--------------:|\n",
      "| HR            |       640.000 |        80.000 |        80.000 |       800.000 |\n",
      "| PD            |       525.000 |         0.000 |        75.000 |       600.000 |\n",
      "| IT            |         0.000 |       276.923 |       123.077 |       400.000 |\n",
      "| MA            |        14.286 |       100.000 |        85.714 |       200.000 |\n",
      "| LT            | 2,000.000     |         0.000 |         0.000 | 2,000.000     |\n",
      "| VG            |         0.000 | 1,800.000     |         0.000 | 1,800.000     |\n",
      "| ER            |         0.000 |         0.000 | 1,200.000     | 1,200.000     |\n",
      "| Total         | 3,179.286     | 2,256.923     | 1,563.791     | 7,000.000     |\n"
     ]
    }
   ],
   "source": [
    "df_direct = direct_allocations(df_direct)"
   ],
   "metadata": {
    "collapsed": false
   }
  },
  {
   "cell_type": "markdown",
   "source": [
    "### Step-down method  ###\n",
    "\n",
    "---\n",
    "\n",
    "**The weight matrix:**\n",
    "\n",
    "Make a matrix with the weights from the lower rows of the table."
   ],
   "metadata": {
    "collapsed": false
   }
  },
  {
   "cell_type": "code",
   "execution_count": 9,
   "outputs": [
    {
     "data": {
      "text/plain": "<pandas.io.formats.style.Styler at 0x7ff2adfdff10>",
      "text/html": "<style type=\"text/css\">\n#T_ffe17_row0_col0, #T_ffe17_row1_col1, #T_ffe17_row2_col2, #T_ffe17_row3_col3 {\n  background-color: #f7fbff;\n  color: #000000;\n}\n#T_ffe17_row0_col1, #T_ffe17_row1_col3, #T_ffe17_row3_col2 {\n  background-color: #529dcc;\n  color: #f1f1f1;\n}\n#T_ffe17_row0_col2, #T_ffe17_row1_col0 {\n  background-color: #4191c6;\n  color: #f1f1f1;\n}\n#T_ffe17_row0_col3, #T_ffe17_row2_col1, #T_ffe17_row3_col0 {\n  background-color: #5ba3d0;\n  color: #f1f1f1;\n}\n#T_ffe17_row0_col4 {\n  background-color: #2e7ebc;\n  color: #f1f1f1;\n}\n#T_ffe17_row0_col5, #T_ffe17_row0_col6, #T_ffe17_row1_col6, #T_ffe17_row2_col3, #T_ffe17_row3_col1, #T_ffe17_row3_col4 {\n  background-color: #63a8d3;\n  color: #f1f1f1;\n}\n#T_ffe17_row1_col2, #T_ffe17_row2_col0, #T_ffe17_row2_col6 {\n  background-color: #4a98c9;\n  color: #f1f1f1;\n}\n#T_ffe17_row1_col4, #T_ffe17_row3_col5 {\n  background-color: #3585bf;\n  color: #f1f1f1;\n}\n#T_ffe17_row1_col5, #T_ffe17_row2_col4, #T_ffe17_row4_col0, #T_ffe17_row4_col1, #T_ffe17_row4_col2, #T_ffe17_row4_col3, #T_ffe17_row4_col5, #T_ffe17_row4_col6, #T_ffe17_row5_col0, #T_ffe17_row5_col1, #T_ffe17_row5_col2, #T_ffe17_row5_col3, #T_ffe17_row5_col4, #T_ffe17_row5_col6, #T_ffe17_row6_col0, #T_ffe17_row6_col1, #T_ffe17_row6_col2, #T_ffe17_row6_col3, #T_ffe17_row6_col4, #T_ffe17_row6_col5 {\n  background-color: #6aaed6;\n  color: #f1f1f1;\n}\n#T_ffe17_row2_col5 {\n  background-color: #2777b8;\n  color: #f1f1f1;\n}\n#T_ffe17_row3_col6 {\n  background-color: #3b8bc2;\n  color: #f1f1f1;\n}\n#T_ffe17_row4_col4, #T_ffe17_row5_col5, #T_ffe17_row6_col6 {\n  background-color: #08306b;\n  color: #f1f1f1;\n}\n</style>\n<table id=\"T_ffe17\">\n  <thead>\n    <tr>\n      <th class=\"blank level0\" >&nbsp;</th>\n      <th id=\"T_ffe17_level0_col0\" class=\"col_heading level0 col0\" >HR</th>\n      <th id=\"T_ffe17_level0_col1\" class=\"col_heading level0 col1\" >PD</th>\n      <th id=\"T_ffe17_level0_col2\" class=\"col_heading level0 col2\" >IT</th>\n      <th id=\"T_ffe17_level0_col3\" class=\"col_heading level0 col3\" >MA</th>\n      <th id=\"T_ffe17_level0_col4\" class=\"col_heading level0 col4\" >LT</th>\n      <th id=\"T_ffe17_level0_col5\" class=\"col_heading level0 col5\" >VG</th>\n      <th id=\"T_ffe17_level0_col6\" class=\"col_heading level0 col6\" >ER</th>\n    </tr>\n    <tr>\n      <th class=\"index_name level0\" >Departments</th>\n      <th class=\"blank col0\" >&nbsp;</th>\n      <th class=\"blank col1\" >&nbsp;</th>\n      <th class=\"blank col2\" >&nbsp;</th>\n      <th class=\"blank col3\" >&nbsp;</th>\n      <th class=\"blank col4\" >&nbsp;</th>\n      <th class=\"blank col5\" >&nbsp;</th>\n      <th class=\"blank col6\" >&nbsp;</th>\n    </tr>\n  </thead>\n  <tbody>\n    <tr>\n      <th id=\"T_ffe17_level0_row0\" class=\"row_heading level0 row0\" >HR</th>\n      <td id=\"T_ffe17_row0_col0\" class=\"data row0 col0\" >-1.00</td>\n      <td id=\"T_ffe17_row0_col1\" class=\"data row0 col1\" >0.15</td>\n      <td id=\"T_ffe17_row0_col2\" class=\"data row0 col2\" >0.25</td>\n      <td id=\"T_ffe17_row0_col3\" class=\"data row0 col3\" >0.10</td>\n      <td id=\"T_ffe17_row0_col4\" class=\"data row0 col4\" >0.40</td>\n      <td id=\"T_ffe17_row0_col5\" class=\"data row0 col5\" >0.05</td>\n      <td id=\"T_ffe17_row0_col6\" class=\"data row0 col6\" >0.05</td>\n    </tr>\n    <tr>\n      <th id=\"T_ffe17_level0_row1\" class=\"row_heading level0 row1\" >PD</th>\n      <td id=\"T_ffe17_row1_col0\" class=\"data row1 col0\" >0.25</td>\n      <td id=\"T_ffe17_row1_col1\" class=\"data row1 col1\" >-1.00</td>\n      <td id=\"T_ffe17_row1_col2\" class=\"data row1 col2\" >0.20</td>\n      <td id=\"T_ffe17_row1_col3\" class=\"data row1 col3\" >0.15</td>\n      <td id=\"T_ffe17_row1_col4\" class=\"data row1 col4\" >0.35</td>\n      <td id=\"T_ffe17_row1_col5\" class=\"data row1 col5\" >0.00</td>\n      <td id=\"T_ffe17_row1_col6\" class=\"data row1 col6\" >0.05</td>\n    </tr>\n    <tr>\n      <th id=\"T_ffe17_level0_row2\" class=\"row_heading level0 row2\" >IT</th>\n      <td id=\"T_ffe17_row2_col0\" class=\"data row2 col0\" >0.20</td>\n      <td id=\"T_ffe17_row2_col1\" class=\"data row2 col1\" >0.10</td>\n      <td id=\"T_ffe17_row2_col2\" class=\"data row2 col2\" >-1.00</td>\n      <td id=\"T_ffe17_row2_col3\" class=\"data row2 col3\" >0.05</td>\n      <td id=\"T_ffe17_row2_col4\" class=\"data row2 col4\" >0.00</td>\n      <td id=\"T_ffe17_row2_col5\" class=\"data row2 col5\" >0.45</td>\n      <td id=\"T_ffe17_row2_col6\" class=\"data row2 col6\" >0.20</td>\n    </tr>\n    <tr>\n      <th id=\"T_ffe17_level0_row3\" class=\"row_heading level0 row3\" >MA</th>\n      <td id=\"T_ffe17_row3_col0\" class=\"data row3 col0\" >0.10</td>\n      <td id=\"T_ffe17_row3_col1\" class=\"data row3 col1\" >0.05</td>\n      <td id=\"T_ffe17_row3_col2\" class=\"data row3 col2\" >0.15</td>\n      <td id=\"T_ffe17_row3_col3\" class=\"data row3 col3\" >-1.00</td>\n      <td id=\"T_ffe17_row3_col4\" class=\"data row3 col4\" >0.05</td>\n      <td id=\"T_ffe17_row3_col5\" class=\"data row3 col5\" >0.35</td>\n      <td id=\"T_ffe17_row3_col6\" class=\"data row3 col6\" >0.30</td>\n    </tr>\n    <tr>\n      <th id=\"T_ffe17_level0_row4\" class=\"row_heading level0 row4\" >LT</th>\n      <td id=\"T_ffe17_row4_col0\" class=\"data row4 col0\" >0.00</td>\n      <td id=\"T_ffe17_row4_col1\" class=\"data row4 col1\" >0.00</td>\n      <td id=\"T_ffe17_row4_col2\" class=\"data row4 col2\" >0.00</td>\n      <td id=\"T_ffe17_row4_col3\" class=\"data row4 col3\" >0.00</td>\n      <td id=\"T_ffe17_row4_col4\" class=\"data row4 col4\" >1.00</td>\n      <td id=\"T_ffe17_row4_col5\" class=\"data row4 col5\" >0.00</td>\n      <td id=\"T_ffe17_row4_col6\" class=\"data row4 col6\" >0.00</td>\n    </tr>\n    <tr>\n      <th id=\"T_ffe17_level0_row5\" class=\"row_heading level0 row5\" >VG</th>\n      <td id=\"T_ffe17_row5_col0\" class=\"data row5 col0\" >0.00</td>\n      <td id=\"T_ffe17_row5_col1\" class=\"data row5 col1\" >0.00</td>\n      <td id=\"T_ffe17_row5_col2\" class=\"data row5 col2\" >0.00</td>\n      <td id=\"T_ffe17_row5_col3\" class=\"data row5 col3\" >0.00</td>\n      <td id=\"T_ffe17_row5_col4\" class=\"data row5 col4\" >0.00</td>\n      <td id=\"T_ffe17_row5_col5\" class=\"data row5 col5\" >1.00</td>\n      <td id=\"T_ffe17_row5_col6\" class=\"data row5 col6\" >0.00</td>\n    </tr>\n    <tr>\n      <th id=\"T_ffe17_level0_row6\" class=\"row_heading level0 row6\" >ER</th>\n      <td id=\"T_ffe17_row6_col0\" class=\"data row6 col0\" >0.00</td>\n      <td id=\"T_ffe17_row6_col1\" class=\"data row6 col1\" >0.00</td>\n      <td id=\"T_ffe17_row6_col2\" class=\"data row6 col2\" >0.00</td>\n      <td id=\"T_ffe17_row6_col3\" class=\"data row6 col3\" >0.00</td>\n      <td id=\"T_ffe17_row6_col4\" class=\"data row6 col4\" >0.00</td>\n      <td id=\"T_ffe17_row6_col5\" class=\"data row6 col5\" >0.00</td>\n      <td id=\"T_ffe17_row6_col6\" class=\"data row6 col6\" >1.00</td>\n    </tr>\n  </tbody>\n</table>\n"
     },
     "execution_count": 9,
     "metadata": {},
     "output_type": "execute_result"
    }
   ],
   "source": [
    "df_wght_matrix = dfs[dept_names].loc[dept_names]\n",
    "diagonal = list(np.diag(df_wght_matrix))  # Keep the diagonal\n",
    "\n",
    "df_wght_matrix.style.background_gradient(axis=None, vmin=-1, vmax=1, cmap=\"Blues\").format(precision=2)"
   ],
   "metadata": {
    "collapsed": false
   }
  },
  {
   "cell_type": "markdown",
   "source": [
    "We are not interested in the weights below the diagonal, because we use the **step-down** method. Let's also add a column of Totals, which enables re-weighing:"
   ],
   "metadata": {
    "collapsed": false
   }
  },
  {
   "cell_type": "code",
   "execution_count": 10,
   "id": "cad64d5b",
   "metadata": {},
   "outputs": [
    {
     "data": {
      "text/plain": "<pandas.io.formats.style.Styler at 0x7ff279445fd0>",
      "text/html": "<style type=\"text/css\">\n#T_76f30_row0_col0, #T_76f30_row1_col0, #T_76f30_row1_col1, #T_76f30_row2_col0, #T_76f30_row2_col1, #T_76f30_row2_col2, #T_76f30_row3_col0, #T_76f30_row3_col1, #T_76f30_row3_col2, #T_76f30_row3_col3, #T_76f30_row4_col0, #T_76f30_row4_col1, #T_76f30_row4_col2, #T_76f30_row4_col3, #T_76f30_row4_col4, #T_76f30_row5_col0, #T_76f30_row5_col1, #T_76f30_row5_col2, #T_76f30_row5_col3, #T_76f30_row5_col4, #T_76f30_row5_col5, #T_76f30_row6_col0, #T_76f30_row6_col1, #T_76f30_row6_col2, #T_76f30_row6_col3, #T_76f30_row6_col4, #T_76f30_row6_col5, #T_76f30_row6_col6 {\n  background-color: #000000;\n  color: #f1f1f1;\n}\n#T_76f30_row0_col1, #T_76f30_row1_col3 {\n  background-color: #529dcc;\n  color: #f1f1f1;\n}\n#T_76f30_row0_col2 {\n  background-color: #4191c6;\n  color: #f1f1f1;\n}\n#T_76f30_row0_col3 {\n  background-color: #5ba3d0;\n  color: #f1f1f1;\n}\n#T_76f30_row0_col4 {\n  background-color: #2e7ebc;\n  color: #f1f1f1;\n}\n#T_76f30_row0_col5, #T_76f30_row0_col6, #T_76f30_row1_col6, #T_76f30_row2_col3, #T_76f30_row3_col4 {\n  background-color: #63a8d3;\n  color: #f1f1f1;\n}\n#T_76f30_row0_col7 {\n  background-color: #08306b;\n  color: #f1f1f1;\n}\n#T_76f30_row1_col2, #T_76f30_row2_col6 {\n  background-color: #4a98c9;\n  color: #f1f1f1;\n}\n#T_76f30_row1_col4, #T_76f30_row3_col5 {\n  background-color: #3585bf;\n  color: #f1f1f1;\n}\n#T_76f30_row1_col5, #T_76f30_row2_col4, #T_76f30_row4_col5, #T_76f30_row4_col6, #T_76f30_row4_col7, #T_76f30_row5_col6, #T_76f30_row5_col7, #T_76f30_row6_col7 {\n  background-color: #6aaed6;\n  color: #f1f1f1;\n}\n#T_76f30_row1_col7 {\n  background-color: #08509b;\n  color: #f1f1f1;\n}\n#T_76f30_row2_col5 {\n  background-color: #2777b8;\n  color: #f1f1f1;\n}\n#T_76f30_row2_col7, #T_76f30_row3_col7 {\n  background-color: #0d57a1;\n  color: #f1f1f1;\n}\n#T_76f30_row3_col6 {\n  background-color: #3b8bc2;\n  color: #f1f1f1;\n}\n</style>\n<table id=\"T_76f30\">\n  <thead>\n    <tr>\n      <th class=\"blank level0\" >&nbsp;</th>\n      <th id=\"T_76f30_level0_col0\" class=\"col_heading level0 col0\" >HR</th>\n      <th id=\"T_76f30_level0_col1\" class=\"col_heading level0 col1\" >PD</th>\n      <th id=\"T_76f30_level0_col2\" class=\"col_heading level0 col2\" >IT</th>\n      <th id=\"T_76f30_level0_col3\" class=\"col_heading level0 col3\" >MA</th>\n      <th id=\"T_76f30_level0_col4\" class=\"col_heading level0 col4\" >LT</th>\n      <th id=\"T_76f30_level0_col5\" class=\"col_heading level0 col5\" >VG</th>\n      <th id=\"T_76f30_level0_col6\" class=\"col_heading level0 col6\" >ER</th>\n      <th id=\"T_76f30_level0_col7\" class=\"col_heading level0 col7\" >Total</th>\n    </tr>\n    <tr>\n      <th class=\"index_name level0\" >Departments</th>\n      <th class=\"blank col0\" >&nbsp;</th>\n      <th class=\"blank col1\" >&nbsp;</th>\n      <th class=\"blank col2\" >&nbsp;</th>\n      <th class=\"blank col3\" >&nbsp;</th>\n      <th class=\"blank col4\" >&nbsp;</th>\n      <th class=\"blank col5\" >&nbsp;</th>\n      <th class=\"blank col6\" >&nbsp;</th>\n      <th class=\"blank col7\" >&nbsp;</th>\n    </tr>\n  </thead>\n  <tbody>\n    <tr>\n      <th id=\"T_76f30_level0_row0\" class=\"row_heading level0 row0\" >HR</th>\n      <td id=\"T_76f30_row0_col0\" class=\"data row0 col0\" >nan</td>\n      <td id=\"T_76f30_row0_col1\" class=\"data row0 col1\" >0.150</td>\n      <td id=\"T_76f30_row0_col2\" class=\"data row0 col2\" >0.250</td>\n      <td id=\"T_76f30_row0_col3\" class=\"data row0 col3\" >0.100</td>\n      <td id=\"T_76f30_row0_col4\" class=\"data row0 col4\" >0.400</td>\n      <td id=\"T_76f30_row0_col5\" class=\"data row0 col5\" >0.050</td>\n      <td id=\"T_76f30_row0_col6\" class=\"data row0 col6\" >0.050</td>\n      <td id=\"T_76f30_row0_col7\" class=\"data row0 col7\" >1.000</td>\n    </tr>\n    <tr>\n      <th id=\"T_76f30_level0_row1\" class=\"row_heading level0 row1\" >PD</th>\n      <td id=\"T_76f30_row1_col0\" class=\"data row1 col0\" >nan</td>\n      <td id=\"T_76f30_row1_col1\" class=\"data row1 col1\" >nan</td>\n      <td id=\"T_76f30_row1_col2\" class=\"data row1 col2\" >0.200</td>\n      <td id=\"T_76f30_row1_col3\" class=\"data row1 col3\" >0.150</td>\n      <td id=\"T_76f30_row1_col4\" class=\"data row1 col4\" >0.350</td>\n      <td id=\"T_76f30_row1_col5\" class=\"data row1 col5\" >0.000</td>\n      <td id=\"T_76f30_row1_col6\" class=\"data row1 col6\" >0.050</td>\n      <td id=\"T_76f30_row1_col7\" class=\"data row1 col7\" >0.750</td>\n    </tr>\n    <tr>\n      <th id=\"T_76f30_level0_row2\" class=\"row_heading level0 row2\" >IT</th>\n      <td id=\"T_76f30_row2_col0\" class=\"data row2 col0\" >nan</td>\n      <td id=\"T_76f30_row2_col1\" class=\"data row2 col1\" >nan</td>\n      <td id=\"T_76f30_row2_col2\" class=\"data row2 col2\" >nan</td>\n      <td id=\"T_76f30_row2_col3\" class=\"data row2 col3\" >0.050</td>\n      <td id=\"T_76f30_row2_col4\" class=\"data row2 col4\" >0.000</td>\n      <td id=\"T_76f30_row2_col5\" class=\"data row2 col5\" >0.450</td>\n      <td id=\"T_76f30_row2_col6\" class=\"data row2 col6\" >0.200</td>\n      <td id=\"T_76f30_row2_col7\" class=\"data row2 col7\" >0.700</td>\n    </tr>\n    <tr>\n      <th id=\"T_76f30_level0_row3\" class=\"row_heading level0 row3\" >MA</th>\n      <td id=\"T_76f30_row3_col0\" class=\"data row3 col0\" >nan</td>\n      <td id=\"T_76f30_row3_col1\" class=\"data row3 col1\" >nan</td>\n      <td id=\"T_76f30_row3_col2\" class=\"data row3 col2\" >nan</td>\n      <td id=\"T_76f30_row3_col3\" class=\"data row3 col3\" >nan</td>\n      <td id=\"T_76f30_row3_col4\" class=\"data row3 col4\" >0.050</td>\n      <td id=\"T_76f30_row3_col5\" class=\"data row3 col5\" >0.350</td>\n      <td id=\"T_76f30_row3_col6\" class=\"data row3 col6\" >0.300</td>\n      <td id=\"T_76f30_row3_col7\" class=\"data row3 col7\" >0.700</td>\n    </tr>\n    <tr>\n      <th id=\"T_76f30_level0_row4\" class=\"row_heading level0 row4\" >LT</th>\n      <td id=\"T_76f30_row4_col0\" class=\"data row4 col0\" >nan</td>\n      <td id=\"T_76f30_row4_col1\" class=\"data row4 col1\" >nan</td>\n      <td id=\"T_76f30_row4_col2\" class=\"data row4 col2\" >nan</td>\n      <td id=\"T_76f30_row4_col3\" class=\"data row4 col3\" >nan</td>\n      <td id=\"T_76f30_row4_col4\" class=\"data row4 col4\" >nan</td>\n      <td id=\"T_76f30_row4_col5\" class=\"data row4 col5\" >0.000</td>\n      <td id=\"T_76f30_row4_col6\" class=\"data row4 col6\" >0.000</td>\n      <td id=\"T_76f30_row4_col7\" class=\"data row4 col7\" >0.000</td>\n    </tr>\n    <tr>\n      <th id=\"T_76f30_level0_row5\" class=\"row_heading level0 row5\" >VG</th>\n      <td id=\"T_76f30_row5_col0\" class=\"data row5 col0\" >nan</td>\n      <td id=\"T_76f30_row5_col1\" class=\"data row5 col1\" >nan</td>\n      <td id=\"T_76f30_row5_col2\" class=\"data row5 col2\" >nan</td>\n      <td id=\"T_76f30_row5_col3\" class=\"data row5 col3\" >nan</td>\n      <td id=\"T_76f30_row5_col4\" class=\"data row5 col4\" >nan</td>\n      <td id=\"T_76f30_row5_col5\" class=\"data row5 col5\" >nan</td>\n      <td id=\"T_76f30_row5_col6\" class=\"data row5 col6\" >0.000</td>\n      <td id=\"T_76f30_row5_col7\" class=\"data row5 col7\" >0.000</td>\n    </tr>\n    <tr>\n      <th id=\"T_76f30_level0_row6\" class=\"row_heading level0 row6\" >ER</th>\n      <td id=\"T_76f30_row6_col0\" class=\"data row6 col0\" >nan</td>\n      <td id=\"T_76f30_row6_col1\" class=\"data row6 col1\" >nan</td>\n      <td id=\"T_76f30_row6_col2\" class=\"data row6 col2\" >nan</td>\n      <td id=\"T_76f30_row6_col3\" class=\"data row6 col3\" >nan</td>\n      <td id=\"T_76f30_row6_col4\" class=\"data row6 col4\" >nan</td>\n      <td id=\"T_76f30_row6_col5\" class=\"data row6 col5\" >nan</td>\n      <td id=\"T_76f30_row6_col6\" class=\"data row6 col6\" >nan</td>\n      <td id=\"T_76f30_row6_col7\" class=\"data row6 col7\" >0.000</td>\n    </tr>\n  </tbody>\n</table>\n"
     },
     "execution_count": 10,
     "metadata": {},
     "output_type": "execute_result"
    }
   ],
   "source": [
    "df_wght_matrix = df_wght_matrix.where(np.triu(np.ones(df_wght_matrix.shape)).astype(bool))\n",
    "np.fill_diagonal(df_wght_matrix.values, np.NaN)\n",
    "df_wght_matrix = df_wght_matrix.assign(Total =  df_wght_matrix.sum(axis=1))\n",
    "df_wght_matrix.style.background_gradient(axis=None, vmin=-1, vmax=1, cmap=\"Blues\").format(precision=3)"
   ]
  },
  {
   "cell_type": "markdown",
   "source": [
    "We now re-weigh so that all rows add up to one (or zero depending on the diagonal values). We also restore the original diagonal values."
   ],
   "metadata": {
    "collapsed": false
   }
  },
  {
   "cell_type": "code",
   "execution_count": 11,
   "outputs": [
    {
     "data": {
      "text/plain": "<pandas.io.formats.style.Styler at 0x7ff27949cac0>",
      "text/html": "<style type=\"text/css\">\n#T_6ba72_row0_col0, #T_6ba72_row1_col1, #T_6ba72_row2_col2, #T_6ba72_row3_col3 {\n  background-color: #f7fbff;\n  color: #000000;\n}\n#T_6ba72_row0_col1 {\n  background-color: #529dcc;\n  color: #f1f1f1;\n}\n#T_6ba72_row0_col2 {\n  background-color: #4191c6;\n  color: #f1f1f1;\n}\n#T_6ba72_row0_col3 {\n  background-color: #5ba3d0;\n  color: #f1f1f1;\n}\n#T_6ba72_row0_col4 {\n  background-color: #2e7ebc;\n  color: #f1f1f1;\n}\n#T_6ba72_row0_col5, #T_6ba72_row0_col6 {\n  background-color: #63a8d3;\n  color: #f1f1f1;\n}\n#T_6ba72_row1_col0, #T_6ba72_row2_col0, #T_6ba72_row2_col1, #T_6ba72_row3_col0, #T_6ba72_row3_col1, #T_6ba72_row3_col2, #T_6ba72_row4_col0, #T_6ba72_row4_col1, #T_6ba72_row4_col2, #T_6ba72_row4_col3, #T_6ba72_row4_col5, #T_6ba72_row4_col6, #T_6ba72_row5_col0, #T_6ba72_row5_col1, #T_6ba72_row5_col2, #T_6ba72_row5_col3, #T_6ba72_row5_col4, #T_6ba72_row5_col6, #T_6ba72_row6_col0, #T_6ba72_row6_col1, #T_6ba72_row6_col2, #T_6ba72_row6_col3, #T_6ba72_row6_col4, #T_6ba72_row6_col5 {\n  background-color: #000000;\n  color: #f1f1f1;\n}\n#T_6ba72_row1_col2 {\n  background-color: #3f8fc5;\n  color: #f1f1f1;\n}\n#T_6ba72_row1_col3 {\n  background-color: #4a98c9;\n  color: #f1f1f1;\n}\n#T_6ba72_row1_col4 {\n  background-color: #2575b7;\n  color: #f1f1f1;\n}\n#T_6ba72_row1_col5, #T_6ba72_row2_col4 {\n  background-color: #6aaed6;\n  color: #f1f1f1;\n}\n#T_6ba72_row1_col6 {\n  background-color: #60a7d2;\n  color: #f1f1f1;\n}\n#T_6ba72_row2_col3, #T_6ba72_row3_col4 {\n  background-color: #5fa6d1;\n  color: #f1f1f1;\n}\n#T_6ba72_row2_col5 {\n  background-color: #125ea6;\n  color: #f1f1f1;\n}\n#T_6ba72_row2_col6 {\n  background-color: #3d8dc4;\n  color: #f1f1f1;\n}\n#T_6ba72_row3_col5 {\n  background-color: #2070b4;\n  color: #f1f1f1;\n}\n#T_6ba72_row3_col6 {\n  background-color: #2b7bba;\n  color: #f1f1f1;\n}\n#T_6ba72_row4_col4, #T_6ba72_row5_col5, #T_6ba72_row6_col6 {\n  background-color: #08306b;\n  color: #f1f1f1;\n}\n</style>\n<table id=\"T_6ba72\">\n  <thead>\n    <tr>\n      <th class=\"blank level0\" >&nbsp;</th>\n      <th id=\"T_6ba72_level0_col0\" class=\"col_heading level0 col0\" >HR</th>\n      <th id=\"T_6ba72_level0_col1\" class=\"col_heading level0 col1\" >PD</th>\n      <th id=\"T_6ba72_level0_col2\" class=\"col_heading level0 col2\" >IT</th>\n      <th id=\"T_6ba72_level0_col3\" class=\"col_heading level0 col3\" >MA</th>\n      <th id=\"T_6ba72_level0_col4\" class=\"col_heading level0 col4\" >LT</th>\n      <th id=\"T_6ba72_level0_col5\" class=\"col_heading level0 col5\" >VG</th>\n      <th id=\"T_6ba72_level0_col6\" class=\"col_heading level0 col6\" >ER</th>\n    </tr>\n    <tr>\n      <th class=\"index_name level0\" >Departments</th>\n      <th class=\"blank col0\" >&nbsp;</th>\n      <th class=\"blank col1\" >&nbsp;</th>\n      <th class=\"blank col2\" >&nbsp;</th>\n      <th class=\"blank col3\" >&nbsp;</th>\n      <th class=\"blank col4\" >&nbsp;</th>\n      <th class=\"blank col5\" >&nbsp;</th>\n      <th class=\"blank col6\" >&nbsp;</th>\n    </tr>\n  </thead>\n  <tbody>\n    <tr>\n      <th id=\"T_6ba72_level0_row0\" class=\"row_heading level0 row0\" >HR</th>\n      <td id=\"T_6ba72_row0_col0\" class=\"data row0 col0\" >-1.000</td>\n      <td id=\"T_6ba72_row0_col1\" class=\"data row0 col1\" >0.150</td>\n      <td id=\"T_6ba72_row0_col2\" class=\"data row0 col2\" >0.250</td>\n      <td id=\"T_6ba72_row0_col3\" class=\"data row0 col3\" >0.100</td>\n      <td id=\"T_6ba72_row0_col4\" class=\"data row0 col4\" >0.400</td>\n      <td id=\"T_6ba72_row0_col5\" class=\"data row0 col5\" >0.050</td>\n      <td id=\"T_6ba72_row0_col6\" class=\"data row0 col6\" >0.050</td>\n    </tr>\n    <tr>\n      <th id=\"T_6ba72_level0_row1\" class=\"row_heading level0 row1\" >PD</th>\n      <td id=\"T_6ba72_row1_col0\" class=\"data row1 col0\" >nan</td>\n      <td id=\"T_6ba72_row1_col1\" class=\"data row1 col1\" >-1.000</td>\n      <td id=\"T_6ba72_row1_col2\" class=\"data row1 col2\" >0.267</td>\n      <td id=\"T_6ba72_row1_col3\" class=\"data row1 col3\" >0.200</td>\n      <td id=\"T_6ba72_row1_col4\" class=\"data row1 col4\" >0.467</td>\n      <td id=\"T_6ba72_row1_col5\" class=\"data row1 col5\" >0.000</td>\n      <td id=\"T_6ba72_row1_col6\" class=\"data row1 col6\" >0.067</td>\n    </tr>\n    <tr>\n      <th id=\"T_6ba72_level0_row2\" class=\"row_heading level0 row2\" >IT</th>\n      <td id=\"T_6ba72_row2_col0\" class=\"data row2 col0\" >nan</td>\n      <td id=\"T_6ba72_row2_col1\" class=\"data row2 col1\" >nan</td>\n      <td id=\"T_6ba72_row2_col2\" class=\"data row2 col2\" >-1.000</td>\n      <td id=\"T_6ba72_row2_col3\" class=\"data row2 col3\" >0.071</td>\n      <td id=\"T_6ba72_row2_col4\" class=\"data row2 col4\" >0.000</td>\n      <td id=\"T_6ba72_row2_col5\" class=\"data row2 col5\" >0.643</td>\n      <td id=\"T_6ba72_row2_col6\" class=\"data row2 col6\" >0.286</td>\n    </tr>\n    <tr>\n      <th id=\"T_6ba72_level0_row3\" class=\"row_heading level0 row3\" >MA</th>\n      <td id=\"T_6ba72_row3_col0\" class=\"data row3 col0\" >nan</td>\n      <td id=\"T_6ba72_row3_col1\" class=\"data row3 col1\" >nan</td>\n      <td id=\"T_6ba72_row3_col2\" class=\"data row3 col2\" >nan</td>\n      <td id=\"T_6ba72_row3_col3\" class=\"data row3 col3\" >-1.000</td>\n      <td id=\"T_6ba72_row3_col4\" class=\"data row3 col4\" >0.071</td>\n      <td id=\"T_6ba72_row3_col5\" class=\"data row3 col5\" >0.500</td>\n      <td id=\"T_6ba72_row3_col6\" class=\"data row3 col6\" >0.429</td>\n    </tr>\n    <tr>\n      <th id=\"T_6ba72_level0_row4\" class=\"row_heading level0 row4\" >LT</th>\n      <td id=\"T_6ba72_row4_col0\" class=\"data row4 col0\" >nan</td>\n      <td id=\"T_6ba72_row4_col1\" class=\"data row4 col1\" >nan</td>\n      <td id=\"T_6ba72_row4_col2\" class=\"data row4 col2\" >nan</td>\n      <td id=\"T_6ba72_row4_col3\" class=\"data row4 col3\" >nan</td>\n      <td id=\"T_6ba72_row4_col4\" class=\"data row4 col4\" >1.000</td>\n      <td id=\"T_6ba72_row4_col5\" class=\"data row4 col5\" >nan</td>\n      <td id=\"T_6ba72_row4_col6\" class=\"data row4 col6\" >nan</td>\n    </tr>\n    <tr>\n      <th id=\"T_6ba72_level0_row5\" class=\"row_heading level0 row5\" >VG</th>\n      <td id=\"T_6ba72_row5_col0\" class=\"data row5 col0\" >nan</td>\n      <td id=\"T_6ba72_row5_col1\" class=\"data row5 col1\" >nan</td>\n      <td id=\"T_6ba72_row5_col2\" class=\"data row5 col2\" >nan</td>\n      <td id=\"T_6ba72_row5_col3\" class=\"data row5 col3\" >nan</td>\n      <td id=\"T_6ba72_row5_col4\" class=\"data row5 col4\" >nan</td>\n      <td id=\"T_6ba72_row5_col5\" class=\"data row5 col5\" >1.000</td>\n      <td id=\"T_6ba72_row5_col6\" class=\"data row5 col6\" >nan</td>\n    </tr>\n    <tr>\n      <th id=\"T_6ba72_level0_row6\" class=\"row_heading level0 row6\" >ER</th>\n      <td id=\"T_6ba72_row6_col0\" class=\"data row6 col0\" >nan</td>\n      <td id=\"T_6ba72_row6_col1\" class=\"data row6 col1\" >nan</td>\n      <td id=\"T_6ba72_row6_col2\" class=\"data row6 col2\" >nan</td>\n      <td id=\"T_6ba72_row6_col3\" class=\"data row6 col3\" >nan</td>\n      <td id=\"T_6ba72_row6_col4\" class=\"data row6 col4\" >nan</td>\n      <td id=\"T_6ba72_row6_col5\" class=\"data row6 col5\" >nan</td>\n      <td id=\"T_6ba72_row6_col6\" class=\"data row6 col6\" >1.000</td>\n    </tr>\n  </tbody>\n</table>\n"
     },
     "execution_count": 11,
     "metadata": {},
     "output_type": "execute_result"
    }
   ],
   "source": [
    "df_wght_matrix = df_wght_matrix[dept_names].div(df_wght_matrix[\"Total\"], axis=0)\n",
    "np.fill_diagonal(df_wght_matrix.values, diagonal)\n",
    "\n",
    "df_wght_matrix.style.background_gradient(axis=None, vmin=-1, vmax=1, cmap=\"Blues\").format(precision=3)"
   ],
   "metadata": {
    "collapsed": false
   }
  },
  {
   "cell_type": "markdown",
   "source": [
    "**The cost matrix**\n",
    "\n",
    "Before we finish the weight matrix we need a cost matrix based on the weight matrix, to get the updated cost vector. The cost matrix only features the blue cells of the weight matrix. This will allow us to \"trickle down\" the costs of upstream departments."
   ],
   "metadata": {
    "collapsed": false
   }
  },
  {
   "cell_type": "code",
   "execution_count": 12,
   "id": "194a3722",
   "metadata": {},
   "outputs": [
    {
     "data": {
      "text/plain": "<pandas.io.formats.style.Styler at 0x7ff279445c10>",
      "text/html": "<style type=\"text/css\">\n#T_1a1e9_row0_col0, #T_1a1e9_row1_col0, #T_1a1e9_row1_col1, #T_1a1e9_row2_col0, #T_1a1e9_row2_col1, #T_1a1e9_row2_col2, #T_1a1e9_row3_col0, #T_1a1e9_row3_col1, #T_1a1e9_row3_col2, #T_1a1e9_row3_col3, #T_1a1e9_row4_col0, #T_1a1e9_row4_col1, #T_1a1e9_row4_col2, #T_1a1e9_row4_col3, #T_1a1e9_row4_col4, #T_1a1e9_row4_col5, #T_1a1e9_row4_col6, #T_1a1e9_row5_col0, #T_1a1e9_row5_col1, #T_1a1e9_row5_col2, #T_1a1e9_row5_col3, #T_1a1e9_row5_col4, #T_1a1e9_row5_col5, #T_1a1e9_row5_col6, #T_1a1e9_row6_col0, #T_1a1e9_row6_col1, #T_1a1e9_row6_col2, #T_1a1e9_row6_col3, #T_1a1e9_row6_col4, #T_1a1e9_row6_col5, #T_1a1e9_row6_col6 {\n  background-color: #000000;\n  color: #f1f1f1;\n}\n#T_1a1e9_row0_col1 {\n  background-color: #529dcc;\n  color: #f1f1f1;\n}\n#T_1a1e9_row0_col2 {\n  background-color: #4191c6;\n  color: #f1f1f1;\n}\n#T_1a1e9_row0_col3 {\n  background-color: #5ba3d0;\n  color: #f1f1f1;\n}\n#T_1a1e9_row0_col4 {\n  background-color: #2e7ebc;\n  color: #f1f1f1;\n}\n#T_1a1e9_row0_col5, #T_1a1e9_row0_col6 {\n  background-color: #63a8d3;\n  color: #f1f1f1;\n}\n#T_1a1e9_row1_col2 {\n  background-color: #3f8fc5;\n  color: #f1f1f1;\n}\n#T_1a1e9_row1_col3 {\n  background-color: #4a98c9;\n  color: #f1f1f1;\n}\n#T_1a1e9_row1_col4 {\n  background-color: #2575b7;\n  color: #f1f1f1;\n}\n#T_1a1e9_row1_col5, #T_1a1e9_row2_col4 {\n  background-color: #6aaed6;\n  color: #f1f1f1;\n}\n#T_1a1e9_row1_col6 {\n  background-color: #60a7d2;\n  color: #f1f1f1;\n}\n#T_1a1e9_row2_col3, #T_1a1e9_row3_col4 {\n  background-color: #5fa6d1;\n  color: #f1f1f1;\n}\n#T_1a1e9_row2_col5 {\n  background-color: #125ea6;\n  color: #f1f1f1;\n}\n#T_1a1e9_row2_col6 {\n  background-color: #3d8dc4;\n  color: #f1f1f1;\n}\n#T_1a1e9_row3_col5 {\n  background-color: #2070b4;\n  color: #f1f1f1;\n}\n#T_1a1e9_row3_col6 {\n  background-color: #2b7bba;\n  color: #f1f1f1;\n}\n</style>\n<table id=\"T_1a1e9\">\n  <thead>\n    <tr>\n      <th class=\"blank level0\" >&nbsp;</th>\n      <th id=\"T_1a1e9_level0_col0\" class=\"col_heading level0 col0\" >HR</th>\n      <th id=\"T_1a1e9_level0_col1\" class=\"col_heading level0 col1\" >PD</th>\n      <th id=\"T_1a1e9_level0_col2\" class=\"col_heading level0 col2\" >IT</th>\n      <th id=\"T_1a1e9_level0_col3\" class=\"col_heading level0 col3\" >MA</th>\n      <th id=\"T_1a1e9_level0_col4\" class=\"col_heading level0 col4\" >LT</th>\n      <th id=\"T_1a1e9_level0_col5\" class=\"col_heading level0 col5\" >VG</th>\n      <th id=\"T_1a1e9_level0_col6\" class=\"col_heading level0 col6\" >ER</th>\n    </tr>\n    <tr>\n      <th class=\"index_name level0\" >Departments</th>\n      <th class=\"blank col0\" >&nbsp;</th>\n      <th class=\"blank col1\" >&nbsp;</th>\n      <th class=\"blank col2\" >&nbsp;</th>\n      <th class=\"blank col3\" >&nbsp;</th>\n      <th class=\"blank col4\" >&nbsp;</th>\n      <th class=\"blank col5\" >&nbsp;</th>\n      <th class=\"blank col6\" >&nbsp;</th>\n    </tr>\n  </thead>\n  <tbody>\n    <tr>\n      <th id=\"T_1a1e9_level0_row0\" class=\"row_heading level0 row0\" >HR</th>\n      <td id=\"T_1a1e9_row0_col0\" class=\"data row0 col0\" >nan</td>\n      <td id=\"T_1a1e9_row0_col1\" class=\"data row0 col1\" >0.15</td>\n      <td id=\"T_1a1e9_row0_col2\" class=\"data row0 col2\" >0.25</td>\n      <td id=\"T_1a1e9_row0_col3\" class=\"data row0 col3\" >0.10</td>\n      <td id=\"T_1a1e9_row0_col4\" class=\"data row0 col4\" >0.40</td>\n      <td id=\"T_1a1e9_row0_col5\" class=\"data row0 col5\" >0.05</td>\n      <td id=\"T_1a1e9_row0_col6\" class=\"data row0 col6\" >0.05</td>\n    </tr>\n    <tr>\n      <th id=\"T_1a1e9_level0_row1\" class=\"row_heading level0 row1\" >PD</th>\n      <td id=\"T_1a1e9_row1_col0\" class=\"data row1 col0\" >nan</td>\n      <td id=\"T_1a1e9_row1_col1\" class=\"data row1 col1\" >nan</td>\n      <td id=\"T_1a1e9_row1_col2\" class=\"data row1 col2\" >0.27</td>\n      <td id=\"T_1a1e9_row1_col3\" class=\"data row1 col3\" >0.20</td>\n      <td id=\"T_1a1e9_row1_col4\" class=\"data row1 col4\" >0.47</td>\n      <td id=\"T_1a1e9_row1_col5\" class=\"data row1 col5\" >0.00</td>\n      <td id=\"T_1a1e9_row1_col6\" class=\"data row1 col6\" >0.07</td>\n    </tr>\n    <tr>\n      <th id=\"T_1a1e9_level0_row2\" class=\"row_heading level0 row2\" >IT</th>\n      <td id=\"T_1a1e9_row2_col0\" class=\"data row2 col0\" >nan</td>\n      <td id=\"T_1a1e9_row2_col1\" class=\"data row2 col1\" >nan</td>\n      <td id=\"T_1a1e9_row2_col2\" class=\"data row2 col2\" >nan</td>\n      <td id=\"T_1a1e9_row2_col3\" class=\"data row2 col3\" >0.07</td>\n      <td id=\"T_1a1e9_row2_col4\" class=\"data row2 col4\" >0.00</td>\n      <td id=\"T_1a1e9_row2_col5\" class=\"data row2 col5\" >0.64</td>\n      <td id=\"T_1a1e9_row2_col6\" class=\"data row2 col6\" >0.29</td>\n    </tr>\n    <tr>\n      <th id=\"T_1a1e9_level0_row3\" class=\"row_heading level0 row3\" >MA</th>\n      <td id=\"T_1a1e9_row3_col0\" class=\"data row3 col0\" >nan</td>\n      <td id=\"T_1a1e9_row3_col1\" class=\"data row3 col1\" >nan</td>\n      <td id=\"T_1a1e9_row3_col2\" class=\"data row3 col2\" >nan</td>\n      <td id=\"T_1a1e9_row3_col3\" class=\"data row3 col3\" >nan</td>\n      <td id=\"T_1a1e9_row3_col4\" class=\"data row3 col4\" >0.07</td>\n      <td id=\"T_1a1e9_row3_col5\" class=\"data row3 col5\" >0.50</td>\n      <td id=\"T_1a1e9_row3_col6\" class=\"data row3 col6\" >0.43</td>\n    </tr>\n    <tr>\n      <th id=\"T_1a1e9_level0_row4\" class=\"row_heading level0 row4\" >LT</th>\n      <td id=\"T_1a1e9_row4_col0\" class=\"data row4 col0\" >nan</td>\n      <td id=\"T_1a1e9_row4_col1\" class=\"data row4 col1\" >nan</td>\n      <td id=\"T_1a1e9_row4_col2\" class=\"data row4 col2\" >nan</td>\n      <td id=\"T_1a1e9_row4_col3\" class=\"data row4 col3\" >nan</td>\n      <td id=\"T_1a1e9_row4_col4\" class=\"data row4 col4\" >nan</td>\n      <td id=\"T_1a1e9_row4_col5\" class=\"data row4 col5\" >nan</td>\n      <td id=\"T_1a1e9_row4_col6\" class=\"data row4 col6\" >nan</td>\n    </tr>\n    <tr>\n      <th id=\"T_1a1e9_level0_row5\" class=\"row_heading level0 row5\" >VG</th>\n      <td id=\"T_1a1e9_row5_col0\" class=\"data row5 col0\" >nan</td>\n      <td id=\"T_1a1e9_row5_col1\" class=\"data row5 col1\" >nan</td>\n      <td id=\"T_1a1e9_row5_col2\" class=\"data row5 col2\" >nan</td>\n      <td id=\"T_1a1e9_row5_col3\" class=\"data row5 col3\" >nan</td>\n      <td id=\"T_1a1e9_row5_col4\" class=\"data row5 col4\" >nan</td>\n      <td id=\"T_1a1e9_row5_col5\" class=\"data row5 col5\" >nan</td>\n      <td id=\"T_1a1e9_row5_col6\" class=\"data row5 col6\" >nan</td>\n    </tr>\n    <tr>\n      <th id=\"T_1a1e9_level0_row6\" class=\"row_heading level0 row6\" >ER</th>\n      <td id=\"T_1a1e9_row6_col0\" class=\"data row6 col0\" >nan</td>\n      <td id=\"T_1a1e9_row6_col1\" class=\"data row6 col1\" >nan</td>\n      <td id=\"T_1a1e9_row6_col2\" class=\"data row6 col2\" >nan</td>\n      <td id=\"T_1a1e9_row6_col3\" class=\"data row6 col3\" >nan</td>\n      <td id=\"T_1a1e9_row6_col4\" class=\"data row6 col4\" >nan</td>\n      <td id=\"T_1a1e9_row6_col5\" class=\"data row6 col5\" >nan</td>\n      <td id=\"T_1a1e9_row6_col6\" class=\"data row6 col6\" >nan</td>\n    </tr>\n  </tbody>\n</table>\n"
     },
     "execution_count": 12,
     "metadata": {},
     "output_type": "execute_result"
    }
   ],
   "source": [
    "df_cost_matrix = df_wght_matrix.copy()\n",
    "np.fill_diagonal(df_cost_matrix.values, np.NaN)\n",
    "df_cost_matrix.style.background_gradient(axis=None, vmin=-1, vmax=1, cmap=\"Blues\").format(precision=2)"
   ]
  },
  {
   "cell_type": "markdown",
   "source": [
    "We now have a matrix that allows us to update the original cost vector.\n",
    "\n",
    "The cells in blue will be multiplied by the (updated) cost vector. So for IT we will multiply 0.25 and 0.26666667 by the relevant costs of the cost vector. We cannot use the original cost vetor values, because each department after the first will see its costs increased by the allocation of cost from upstream departments.\n",
    "\n",
    "Separately, to finish the weight matrix for the final calculations, we should fill its blanks with zeroes:"
   ],
   "metadata": {
    "collapsed": false
   }
  },
  {
   "cell_type": "code",
   "execution_count": 13,
   "id": "10839ae0",
   "metadata": {},
   "outputs": [
    {
     "data": {
      "text/plain": "<pandas.io.formats.style.Styler at 0x7ff279445a00>",
      "text/html": "<style type=\"text/css\">\n#T_b3c01_row0_col0, #T_b3c01_row1_col1, #T_b3c01_row2_col2, #T_b3c01_row3_col3 {\n  background-color: #f7fbff;\n  color: #000000;\n}\n#T_b3c01_row0_col1 {\n  background-color: #529dcc;\n  color: #f1f1f1;\n}\n#T_b3c01_row0_col2 {\n  background-color: #4191c6;\n  color: #f1f1f1;\n}\n#T_b3c01_row0_col3 {\n  background-color: #5ba3d0;\n  color: #f1f1f1;\n}\n#T_b3c01_row0_col4 {\n  background-color: #2e7ebc;\n  color: #f1f1f1;\n}\n#T_b3c01_row0_col5, #T_b3c01_row0_col6 {\n  background-color: #63a8d3;\n  color: #f1f1f1;\n}\n#T_b3c01_row1_col0, #T_b3c01_row1_col5, #T_b3c01_row2_col0, #T_b3c01_row2_col1, #T_b3c01_row2_col4, #T_b3c01_row3_col0, #T_b3c01_row3_col1, #T_b3c01_row3_col2, #T_b3c01_row4_col0, #T_b3c01_row4_col1, #T_b3c01_row4_col2, #T_b3c01_row4_col3, #T_b3c01_row4_col5, #T_b3c01_row4_col6, #T_b3c01_row5_col0, #T_b3c01_row5_col1, #T_b3c01_row5_col2, #T_b3c01_row5_col3, #T_b3c01_row5_col4, #T_b3c01_row5_col6, #T_b3c01_row6_col0, #T_b3c01_row6_col1, #T_b3c01_row6_col2, #T_b3c01_row6_col3, #T_b3c01_row6_col4, #T_b3c01_row6_col5 {\n  background-color: #6aaed6;\n  color: #f1f1f1;\n}\n#T_b3c01_row1_col2 {\n  background-color: #3f8fc5;\n  color: #f1f1f1;\n}\n#T_b3c01_row1_col3 {\n  background-color: #4a98c9;\n  color: #f1f1f1;\n}\n#T_b3c01_row1_col4 {\n  background-color: #2575b7;\n  color: #f1f1f1;\n}\n#T_b3c01_row1_col6 {\n  background-color: #60a7d2;\n  color: #f1f1f1;\n}\n#T_b3c01_row2_col3, #T_b3c01_row3_col4 {\n  background-color: #5fa6d1;\n  color: #f1f1f1;\n}\n#T_b3c01_row2_col5 {\n  background-color: #125ea6;\n  color: #f1f1f1;\n}\n#T_b3c01_row2_col6 {\n  background-color: #3d8dc4;\n  color: #f1f1f1;\n}\n#T_b3c01_row3_col5 {\n  background-color: #2070b4;\n  color: #f1f1f1;\n}\n#T_b3c01_row3_col6 {\n  background-color: #2b7bba;\n  color: #f1f1f1;\n}\n#T_b3c01_row4_col4, #T_b3c01_row5_col5, #T_b3c01_row6_col6 {\n  background-color: #08306b;\n  color: #f1f1f1;\n}\n</style>\n<table id=\"T_b3c01\">\n  <thead>\n    <tr>\n      <th class=\"blank level0\" >&nbsp;</th>\n      <th id=\"T_b3c01_level0_col0\" class=\"col_heading level0 col0\" >HR</th>\n      <th id=\"T_b3c01_level0_col1\" class=\"col_heading level0 col1\" >PD</th>\n      <th id=\"T_b3c01_level0_col2\" class=\"col_heading level0 col2\" >IT</th>\n      <th id=\"T_b3c01_level0_col3\" class=\"col_heading level0 col3\" >MA</th>\n      <th id=\"T_b3c01_level0_col4\" class=\"col_heading level0 col4\" >LT</th>\n      <th id=\"T_b3c01_level0_col5\" class=\"col_heading level0 col5\" >VG</th>\n      <th id=\"T_b3c01_level0_col6\" class=\"col_heading level0 col6\" >ER</th>\n    </tr>\n    <tr>\n      <th class=\"index_name level0\" >Departments</th>\n      <th class=\"blank col0\" >&nbsp;</th>\n      <th class=\"blank col1\" >&nbsp;</th>\n      <th class=\"blank col2\" >&nbsp;</th>\n      <th class=\"blank col3\" >&nbsp;</th>\n      <th class=\"blank col4\" >&nbsp;</th>\n      <th class=\"blank col5\" >&nbsp;</th>\n      <th class=\"blank col6\" >&nbsp;</th>\n    </tr>\n  </thead>\n  <tbody>\n    <tr>\n      <th id=\"T_b3c01_level0_row0\" class=\"row_heading level0 row0\" >HR</th>\n      <td id=\"T_b3c01_row0_col0\" class=\"data row0 col0\" >-1.00</td>\n      <td id=\"T_b3c01_row0_col1\" class=\"data row0 col1\" >0.15</td>\n      <td id=\"T_b3c01_row0_col2\" class=\"data row0 col2\" >0.25</td>\n      <td id=\"T_b3c01_row0_col3\" class=\"data row0 col3\" >0.10</td>\n      <td id=\"T_b3c01_row0_col4\" class=\"data row0 col4\" >0.40</td>\n      <td id=\"T_b3c01_row0_col5\" class=\"data row0 col5\" >0.05</td>\n      <td id=\"T_b3c01_row0_col6\" class=\"data row0 col6\" >0.05</td>\n    </tr>\n    <tr>\n      <th id=\"T_b3c01_level0_row1\" class=\"row_heading level0 row1\" >PD</th>\n      <td id=\"T_b3c01_row1_col0\" class=\"data row1 col0\" >0.00</td>\n      <td id=\"T_b3c01_row1_col1\" class=\"data row1 col1\" >-1.00</td>\n      <td id=\"T_b3c01_row1_col2\" class=\"data row1 col2\" >0.27</td>\n      <td id=\"T_b3c01_row1_col3\" class=\"data row1 col3\" >0.20</td>\n      <td id=\"T_b3c01_row1_col4\" class=\"data row1 col4\" >0.47</td>\n      <td id=\"T_b3c01_row1_col5\" class=\"data row1 col5\" >0.00</td>\n      <td id=\"T_b3c01_row1_col6\" class=\"data row1 col6\" >0.07</td>\n    </tr>\n    <tr>\n      <th id=\"T_b3c01_level0_row2\" class=\"row_heading level0 row2\" >IT</th>\n      <td id=\"T_b3c01_row2_col0\" class=\"data row2 col0\" >0.00</td>\n      <td id=\"T_b3c01_row2_col1\" class=\"data row2 col1\" >0.00</td>\n      <td id=\"T_b3c01_row2_col2\" class=\"data row2 col2\" >-1.00</td>\n      <td id=\"T_b3c01_row2_col3\" class=\"data row2 col3\" >0.07</td>\n      <td id=\"T_b3c01_row2_col4\" class=\"data row2 col4\" >0.00</td>\n      <td id=\"T_b3c01_row2_col5\" class=\"data row2 col5\" >0.64</td>\n      <td id=\"T_b3c01_row2_col6\" class=\"data row2 col6\" >0.29</td>\n    </tr>\n    <tr>\n      <th id=\"T_b3c01_level0_row3\" class=\"row_heading level0 row3\" >MA</th>\n      <td id=\"T_b3c01_row3_col0\" class=\"data row3 col0\" >0.00</td>\n      <td id=\"T_b3c01_row3_col1\" class=\"data row3 col1\" >0.00</td>\n      <td id=\"T_b3c01_row3_col2\" class=\"data row3 col2\" >0.00</td>\n      <td id=\"T_b3c01_row3_col3\" class=\"data row3 col3\" >-1.00</td>\n      <td id=\"T_b3c01_row3_col4\" class=\"data row3 col4\" >0.07</td>\n      <td id=\"T_b3c01_row3_col5\" class=\"data row3 col5\" >0.50</td>\n      <td id=\"T_b3c01_row3_col6\" class=\"data row3 col6\" >0.43</td>\n    </tr>\n    <tr>\n      <th id=\"T_b3c01_level0_row4\" class=\"row_heading level0 row4\" >LT</th>\n      <td id=\"T_b3c01_row4_col0\" class=\"data row4 col0\" >0.00</td>\n      <td id=\"T_b3c01_row4_col1\" class=\"data row4 col1\" >0.00</td>\n      <td id=\"T_b3c01_row4_col2\" class=\"data row4 col2\" >0.00</td>\n      <td id=\"T_b3c01_row4_col3\" class=\"data row4 col3\" >0.00</td>\n      <td id=\"T_b3c01_row4_col4\" class=\"data row4 col4\" >1.00</td>\n      <td id=\"T_b3c01_row4_col5\" class=\"data row4 col5\" >0.00</td>\n      <td id=\"T_b3c01_row4_col6\" class=\"data row4 col6\" >0.00</td>\n    </tr>\n    <tr>\n      <th id=\"T_b3c01_level0_row5\" class=\"row_heading level0 row5\" >VG</th>\n      <td id=\"T_b3c01_row5_col0\" class=\"data row5 col0\" >0.00</td>\n      <td id=\"T_b3c01_row5_col1\" class=\"data row5 col1\" >0.00</td>\n      <td id=\"T_b3c01_row5_col2\" class=\"data row5 col2\" >0.00</td>\n      <td id=\"T_b3c01_row5_col3\" class=\"data row5 col3\" >0.00</td>\n      <td id=\"T_b3c01_row5_col4\" class=\"data row5 col4\" >0.00</td>\n      <td id=\"T_b3c01_row5_col5\" class=\"data row5 col5\" >1.00</td>\n      <td id=\"T_b3c01_row5_col6\" class=\"data row5 col6\" >0.00</td>\n    </tr>\n    <tr>\n      <th id=\"T_b3c01_level0_row6\" class=\"row_heading level0 row6\" >ER</th>\n      <td id=\"T_b3c01_row6_col0\" class=\"data row6 col0\" >0.00</td>\n      <td id=\"T_b3c01_row6_col1\" class=\"data row6 col1\" >0.00</td>\n      <td id=\"T_b3c01_row6_col2\" class=\"data row6 col2\" >0.00</td>\n      <td id=\"T_b3c01_row6_col3\" class=\"data row6 col3\" >0.00</td>\n      <td id=\"T_b3c01_row6_col4\" class=\"data row6 col4\" >0.00</td>\n      <td id=\"T_b3c01_row6_col5\" class=\"data row6 col5\" >0.00</td>\n      <td id=\"T_b3c01_row6_col6\" class=\"data row6 col6\" >1.00</td>\n    </tr>\n  </tbody>\n</table>\n"
     },
     "execution_count": 13,
     "metadata": {},
     "output_type": "execute_result"
    }
   ],
   "source": [
    "df_wght_matrix = df_wght_matrix.fillna(0)\n",
    "df_wght_matrix.style.background_gradient(axis=None, vmin=-1, vmax=1, cmap=\"Blues\").format(precision=2)"
   ]
  },
  {
   "cell_type": "markdown",
   "source": [
    "Back to the cost vector. We should update it because the step-down method moves cost from one department to one lower down.\n",
    "\n",
    "HR, for example moves 120 to PD (800 x 0.15), thus making that department allocate 720, not 600.\n",
    "\n",
    "HR allocates 200 to IT (800 x 0.25) and PD allocates 192 to IT too (720 x 0.26666667). As a result, total cost for IT are 792, not 400.\n",
    "\n",
    "The next function updates the cost vector for each of the upstream departments."
   ],
   "metadata": {
    "collapsed": false
   }
  },
  {
   "cell_type": "code",
   "execution_count": 14,
   "id": "a64787f4",
   "metadata": {},
   "outputs": [
    {
     "data": {
      "text/plain": "      Cost     Cost_new\nHR   800.0   800.000000\nPD   600.0   720.000000\nIT   400.0   792.000000\nMA   200.0   480.571429\nLT  2000.0  2000.000000\nVG  1800.0  1800.000000\nER  1200.0  1200.000000",
      "text/html": "<div>\n<style scoped>\n    .dataframe tbody tr th:only-of-type {\n        vertical-align: middle;\n    }\n\n    .dataframe tbody tr th {\n        vertical-align: top;\n    }\n\n    .dataframe thead th {\n        text-align: right;\n    }\n</style>\n<table border=\"1\" class=\"dataframe\">\n  <thead>\n    <tr style=\"text-align: right;\">\n      <th></th>\n      <th>Cost</th>\n      <th>Cost_new</th>\n    </tr>\n  </thead>\n  <tbody>\n    <tr>\n      <th>HR</th>\n      <td>800.0</td>\n      <td>800.000000</td>\n    </tr>\n    <tr>\n      <th>PD</th>\n      <td>600.0</td>\n      <td>720.000000</td>\n    </tr>\n    <tr>\n      <th>IT</th>\n      <td>400.0</td>\n      <td>792.000000</td>\n    </tr>\n    <tr>\n      <th>MA</th>\n      <td>200.0</td>\n      <td>480.571429</td>\n    </tr>\n    <tr>\n      <th>LT</th>\n      <td>2000.0</td>\n      <td>2000.000000</td>\n    </tr>\n    <tr>\n      <th>VG</th>\n      <td>1800.0</td>\n      <td>1800.000000</td>\n    </tr>\n    <tr>\n      <th>ER</th>\n      <td>1200.0</td>\n      <td>1200.000000</td>\n    </tr>\n  </tbody>\n</table>\n</div>"
     },
     "execution_count": 14,
     "metadata": {},
     "output_type": "execute_result"
    }
   ],
   "source": [
    "def new_cost(df, upstream, cost_vector):\n",
    "    cost_vector = cost_vector.copy()\n",
    "    for department in df[upstream]:\n",
    "        init_cost = cost_vector.loc[department]  # original cost of department\n",
    "        weight = df[department].dropna().values  # get the relevant weights from a department from the cost matrix\n",
    "        if len(weight) > 0:\n",
    "            cost = cost_vector.values  # get the entire cost vector\n",
    "            cost = cost[0:upstream.index(department)]   # use only the costs that can be matched with the keys\n",
    "            add_cost = cost @ weight  # calculate the additional cost for the department\n",
    "        else:\n",
    "            add_cost = 0\n",
    "        cost_vector.loc[department] = init_cost + add_cost  # update the cost vector\n",
    "    return cost_vector\n",
    "\n",
    "df_upd_cost = new_cost(df_cost_matrix, upstream, df_cost)\n",
    "df_cost.to_frame().join(df_upd_cost, rsuffix= \"_new\")"
   ]
  },
  {
   "cell_type": "markdown",
   "source": [
    "The final step here is to allocate the costs using the weight matrix and the updated cost vector."
   ],
   "metadata": {
    "collapsed": false
   }
  },
  {
   "cell_type": "code",
   "execution_count": 15,
   "id": "f897fee4",
   "metadata": {},
   "outputs": [
    {
     "data": {
      "text/plain": "<pandas.io.formats.style.Styler at 0x7ff2794694c0>",
      "text/html": "<style type=\"text/css\">\n#T_29d7f_row0_col0, #T_29d7f_row2_col2 {\n  background-color: #083674;\n  color: #f1f1f1;\n}\n#T_29d7f_row0_col1 {\n  background-color: #0a549e;\n  color: #f1f1f1;\n}\n#T_29d7f_row0_col2, #T_29d7f_row1_col2, #T_29d7f_row3_col6 {\n  background-color: #0d57a1;\n  color: #f1f1f1;\n}\n#T_29d7f_row0_col3 {\n  background-color: #0a539e;\n  color: #f1f1f1;\n}\n#T_29d7f_row0_col4, #T_29d7f_row1_col4 {\n  background-color: #105ba4;\n  color: #f1f1f1;\n}\n#T_29d7f_row0_col5, #T_29d7f_row0_col6, #T_29d7f_row1_col6, #T_29d7f_row2_col3, #T_29d7f_row3_col4 {\n  background-color: #09529d;\n  color: #f1f1f1;\n}\n#T_29d7f_row0_col7, #T_29d7f_row1_col0, #T_29d7f_row1_col5, #T_29d7f_row1_col7, #T_29d7f_row2_col0, #T_29d7f_row2_col1, #T_29d7f_row2_col4, #T_29d7f_row2_col7, #T_29d7f_row3_col0, #T_29d7f_row3_col1, #T_29d7f_row3_col2, #T_29d7f_row3_col7, #T_29d7f_row4_col0, #T_29d7f_row4_col1, #T_29d7f_row4_col2, #T_29d7f_row4_col3, #T_29d7f_row4_col5, #T_29d7f_row4_col6, #T_29d7f_row5_col0, #T_29d7f_row5_col1, #T_29d7f_row5_col2, #T_29d7f_row5_col3, #T_29d7f_row5_col4, #T_29d7f_row5_col6, #T_29d7f_row6_col0, #T_29d7f_row6_col1, #T_29d7f_row6_col2, #T_29d7f_row6_col3, #T_29d7f_row6_col4, #T_29d7f_row6_col5, #T_29d7f_row7_col0, #T_29d7f_row7_col1, #T_29d7f_row7_col2, #T_29d7f_row7_col3 {\n  background-color: #08519c;\n  color: #f1f1f1;\n}\n#T_29d7f_row1_col1 {\n  background-color: #083877;\n  color: #f1f1f1;\n}\n#T_29d7f_row1_col3 {\n  background-color: #0b559f;\n  color: #f1f1f1;\n}\n#T_29d7f_row2_col5 {\n  background-color: #1561a9;\n  color: #f1f1f1;\n}\n#T_29d7f_row2_col6, #T_29d7f_row3_col5 {\n  background-color: #0e58a2;\n  color: #f1f1f1;\n}\n#T_29d7f_row3_col3 {\n  background-color: #084184;\n  color: #f1f1f1;\n}\n#T_29d7f_row4_col4, #T_29d7f_row4_col7 {\n  background-color: #4292c6;\n  color: #f1f1f1;\n}\n#T_29d7f_row5_col5, #T_29d7f_row5_col7 {\n  background-color: #3b8bc2;\n  color: #f1f1f1;\n}\n#T_29d7f_row6_col6, #T_29d7f_row6_col7 {\n  background-color: #2777b8;\n  color: #f1f1f1;\n}\n#T_29d7f_row7_col4 {\n  background-color: #5fa6d1;\n  color: #f1f1f1;\n}\n#T_29d7f_row7_col5 {\n  background-color: #5aa2cf;\n  color: #f1f1f1;\n}\n#T_29d7f_row7_col6 {\n  background-color: #3989c1;\n  color: #f1f1f1;\n}\n#T_29d7f_row7_col7 {\n  background-color: #f7fbff;\n  color: #000000;\n}\n</style>\n<table id=\"T_29d7f\">\n  <thead>\n    <tr>\n      <th class=\"blank level0\" >&nbsp;</th>\n      <th id=\"T_29d7f_level0_col0\" class=\"col_heading level0 col0\" >HR</th>\n      <th id=\"T_29d7f_level0_col1\" class=\"col_heading level0 col1\" >PD</th>\n      <th id=\"T_29d7f_level0_col2\" class=\"col_heading level0 col2\" >IT</th>\n      <th id=\"T_29d7f_level0_col3\" class=\"col_heading level0 col3\" >MA</th>\n      <th id=\"T_29d7f_level0_col4\" class=\"col_heading level0 col4\" >LT</th>\n      <th id=\"T_29d7f_level0_col5\" class=\"col_heading level0 col5\" >VG</th>\n      <th id=\"T_29d7f_level0_col6\" class=\"col_heading level0 col6\" >ER</th>\n      <th id=\"T_29d7f_level0_col7\" class=\"col_heading level0 col7\" >Total of rows</th>\n    </tr>\n    <tr>\n      <th class=\"index_name level0\" >Departments</th>\n      <th class=\"blank col0\" >&nbsp;</th>\n      <th class=\"blank col1\" >&nbsp;</th>\n      <th class=\"blank col2\" >&nbsp;</th>\n      <th class=\"blank col3\" >&nbsp;</th>\n      <th class=\"blank col4\" >&nbsp;</th>\n      <th class=\"blank col5\" >&nbsp;</th>\n      <th class=\"blank col6\" >&nbsp;</th>\n      <th class=\"blank col7\" >&nbsp;</th>\n    </tr>\n  </thead>\n  <tbody>\n    <tr>\n      <th id=\"T_29d7f_level0_row0\" class=\"row_heading level0 row0\" >HR</th>\n      <td id=\"T_29d7f_row0_col0\" class=\"data row0 col0\" >-800.00</td>\n      <td id=\"T_29d7f_row0_col1\" class=\"data row0 col1\" >120.00</td>\n      <td id=\"T_29d7f_row0_col2\" class=\"data row0 col2\" >200.00</td>\n      <td id=\"T_29d7f_row0_col3\" class=\"data row0 col3\" >80.00</td>\n      <td id=\"T_29d7f_row0_col4\" class=\"data row0 col4\" >320.00</td>\n      <td id=\"T_29d7f_row0_col5\" class=\"data row0 col5\" >40.00</td>\n      <td id=\"T_29d7f_row0_col6\" class=\"data row0 col6\" >40.00</td>\n      <td id=\"T_29d7f_row0_col7\" class=\"data row0 col7\" >0.00</td>\n    </tr>\n    <tr>\n      <th id=\"T_29d7f_level0_row1\" class=\"row_heading level0 row1\" >PD</th>\n      <td id=\"T_29d7f_row1_col0\" class=\"data row1 col0\" >0.00</td>\n      <td id=\"T_29d7f_row1_col1\" class=\"data row1 col1\" >-720.00</td>\n      <td id=\"T_29d7f_row1_col2\" class=\"data row1 col2\" >192.00</td>\n      <td id=\"T_29d7f_row1_col3\" class=\"data row1 col3\" >144.00</td>\n      <td id=\"T_29d7f_row1_col4\" class=\"data row1 col4\" >336.00</td>\n      <td id=\"T_29d7f_row1_col5\" class=\"data row1 col5\" >0.00</td>\n      <td id=\"T_29d7f_row1_col6\" class=\"data row1 col6\" >48.00</td>\n      <td id=\"T_29d7f_row1_col7\" class=\"data row1 col7\" >-0.00</td>\n    </tr>\n    <tr>\n      <th id=\"T_29d7f_level0_row2\" class=\"row_heading level0 row2\" >IT</th>\n      <td id=\"T_29d7f_row2_col0\" class=\"data row2 col0\" >0.00</td>\n      <td id=\"T_29d7f_row2_col1\" class=\"data row2 col1\" >0.00</td>\n      <td id=\"T_29d7f_row2_col2\" class=\"data row2 col2\" >-792.00</td>\n      <td id=\"T_29d7f_row2_col3\" class=\"data row2 col3\" >56.57</td>\n      <td id=\"T_29d7f_row2_col4\" class=\"data row2 col4\" >0.00</td>\n      <td id=\"T_29d7f_row2_col5\" class=\"data row2 col5\" >509.14</td>\n      <td id=\"T_29d7f_row2_col6\" class=\"data row2 col6\" >226.29</td>\n      <td id=\"T_29d7f_row2_col7\" class=\"data row2 col7\" >0.00</td>\n    </tr>\n    <tr>\n      <th id=\"T_29d7f_level0_row3\" class=\"row_heading level0 row3\" >MA</th>\n      <td id=\"T_29d7f_row3_col0\" class=\"data row3 col0\" >0.00</td>\n      <td id=\"T_29d7f_row3_col1\" class=\"data row3 col1\" >0.00</td>\n      <td id=\"T_29d7f_row3_col2\" class=\"data row3 col2\" >0.00</td>\n      <td id=\"T_29d7f_row3_col3\" class=\"data row3 col3\" >-480.57</td>\n      <td id=\"T_29d7f_row3_col4\" class=\"data row3 col4\" >34.33</td>\n      <td id=\"T_29d7f_row3_col5\" class=\"data row3 col5\" >240.29</td>\n      <td id=\"T_29d7f_row3_col6\" class=\"data row3 col6\" >205.96</td>\n      <td id=\"T_29d7f_row3_col7\" class=\"data row3 col7\" >0.00</td>\n    </tr>\n    <tr>\n      <th id=\"T_29d7f_level0_row4\" class=\"row_heading level0 row4\" >LT</th>\n      <td id=\"T_29d7f_row4_col0\" class=\"data row4 col0\" >0.00</td>\n      <td id=\"T_29d7f_row4_col1\" class=\"data row4 col1\" >0.00</td>\n      <td id=\"T_29d7f_row4_col2\" class=\"data row4 col2\" >0.00</td>\n      <td id=\"T_29d7f_row4_col3\" class=\"data row4 col3\" >0.00</td>\n      <td id=\"T_29d7f_row4_col4\" class=\"data row4 col4\" >2000.00</td>\n      <td id=\"T_29d7f_row4_col5\" class=\"data row4 col5\" >0.00</td>\n      <td id=\"T_29d7f_row4_col6\" class=\"data row4 col6\" >0.00</td>\n      <td id=\"T_29d7f_row4_col7\" class=\"data row4 col7\" >2000.00</td>\n    </tr>\n    <tr>\n      <th id=\"T_29d7f_level0_row5\" class=\"row_heading level0 row5\" >VG</th>\n      <td id=\"T_29d7f_row5_col0\" class=\"data row5 col0\" >0.00</td>\n      <td id=\"T_29d7f_row5_col1\" class=\"data row5 col1\" >0.00</td>\n      <td id=\"T_29d7f_row5_col2\" class=\"data row5 col2\" >0.00</td>\n      <td id=\"T_29d7f_row5_col3\" class=\"data row5 col3\" >0.00</td>\n      <td id=\"T_29d7f_row5_col4\" class=\"data row5 col4\" >0.00</td>\n      <td id=\"T_29d7f_row5_col5\" class=\"data row5 col5\" >1800.00</td>\n      <td id=\"T_29d7f_row5_col6\" class=\"data row5 col6\" >0.00</td>\n      <td id=\"T_29d7f_row5_col7\" class=\"data row5 col7\" >1800.00</td>\n    </tr>\n    <tr>\n      <th id=\"T_29d7f_level0_row6\" class=\"row_heading level0 row6\" >ER</th>\n      <td id=\"T_29d7f_row6_col0\" class=\"data row6 col0\" >0.00</td>\n      <td id=\"T_29d7f_row6_col1\" class=\"data row6 col1\" >0.00</td>\n      <td id=\"T_29d7f_row6_col2\" class=\"data row6 col2\" >0.00</td>\n      <td id=\"T_29d7f_row6_col3\" class=\"data row6 col3\" >0.00</td>\n      <td id=\"T_29d7f_row6_col4\" class=\"data row6 col4\" >0.00</td>\n      <td id=\"T_29d7f_row6_col5\" class=\"data row6 col5\" >0.00</td>\n      <td id=\"T_29d7f_row6_col6\" class=\"data row6 col6\" >1200.00</td>\n      <td id=\"T_29d7f_row6_col7\" class=\"data row6 col7\" >1200.00</td>\n    </tr>\n    <tr>\n      <th id=\"T_29d7f_level0_row7\" class=\"row_heading level0 row7\" >Total</th>\n      <td id=\"T_29d7f_row7_col0\" class=\"data row7 col0\" >0.00</td>\n      <td id=\"T_29d7f_row7_col1\" class=\"data row7 col1\" >0.00</td>\n      <td id=\"T_29d7f_row7_col2\" class=\"data row7 col2\" >0.00</td>\n      <td id=\"T_29d7f_row7_col3\" class=\"data row7 col3\" >0.00</td>\n      <td id=\"T_29d7f_row7_col4\" class=\"data row7 col4\" >2690.33</td>\n      <td id=\"T_29d7f_row7_col5\" class=\"data row7 col5\" >2589.43</td>\n      <td id=\"T_29d7f_row7_col6\" class=\"data row7 col6\" >1720.24</td>\n      <td id=\"T_29d7f_row7_col7\" class=\"data row7 col7\" >7000.00</td>\n    </tr>\n  </tbody>\n</table>\n"
     },
     "execution_count": 15,
     "metadata": {},
     "output_type": "execute_result"
    }
   ],
   "source": [
    "df_step_down = df_wght_matrix.mul(df_upd_cost, axis=0)  # .where(np.triu(np.ones(df_wght_matrix.shape)).astype(bool))\n",
    "df_step_down = total_allocations(df_step_down, upstream)\n",
    "df_step_down.style.pipe(make_prettier)"
   ]
  },
  {
   "cell_type": "markdown",
   "source": [
    "Compare to the previous allocation using the direct method."
   ],
   "metadata": {
    "collapsed": false
   }
  },
  {
   "cell_type": "code",
   "execution_count": 16,
   "outputs": [
    {
     "data": {
      "text/plain": "<pandas.io.formats.style.Styler at 0x7ff279469160>",
      "text/html": "<style type=\"text/css\">\n#T_f5f0a_row0_col0 {\n  background-color: #1865ac;\n  color: #f1f1f1;\n}\n#T_f5f0a_row0_col1, #T_f5f0a_row0_col2, #T_f5f0a_row1_col2, #T_f5f0a_row3_col2 {\n  background-color: #0a539e;\n  color: #f1f1f1;\n}\n#T_f5f0a_row0_col3 {\n  background-color: #1c6ab0;\n  color: #f1f1f1;\n}\n#T_f5f0a_row1_col0 {\n  background-color: #1561a9;\n  color: #f1f1f1;\n}\n#T_f5f0a_row1_col1, #T_f5f0a_row2_col0, #T_f5f0a_row3_col0, #T_f5f0a_row4_col1, #T_f5f0a_row4_col2, #T_f5f0a_row5_col0, #T_f5f0a_row5_col2, #T_f5f0a_row6_col0, #T_f5f0a_row6_col1 {\n  background-color: #08519c;\n  color: #f1f1f1;\n}\n#T_f5f0a_row1_col3 {\n  background-color: #1764ab;\n  color: #f1f1f1;\n}\n#T_f5f0a_row2_col1 {\n  background-color: #0e59a2;\n  color: #f1f1f1;\n}\n#T_f5f0a_row2_col2, #T_f5f0a_row3_col1 {\n  background-color: #0a549e;\n  color: #f1f1f1;\n}\n#T_f5f0a_row2_col3 {\n  background-color: #125da6;\n  color: #f1f1f1;\n}\n#T_f5f0a_row3_col3 {\n  background-color: #0d57a1;\n  color: #f1f1f1;\n}\n#T_f5f0a_row4_col0, #T_f5f0a_row4_col3 {\n  background-color: #4292c6;\n  color: #f1f1f1;\n}\n#T_f5f0a_row5_col1, #T_f5f0a_row5_col3 {\n  background-color: #3b8bc2;\n  color: #f1f1f1;\n}\n#T_f5f0a_row6_col2, #T_f5f0a_row6_col3 {\n  background-color: #2777b8;\n  color: #f1f1f1;\n}\n#T_f5f0a_row7_col0 {\n  background-color: #74b3d8;\n  color: #000000;\n}\n#T_f5f0a_row7_col1 {\n  background-color: #4d99ca;\n  color: #f1f1f1;\n}\n#T_f5f0a_row7_col2 {\n  background-color: #3484bf;\n  color: #f1f1f1;\n}\n#T_f5f0a_row7_col3 {\n  background-color: #f7fbff;\n  color: #000000;\n}\n</style>\n<table id=\"T_f5f0a\">\n  <thead>\n    <tr>\n      <th class=\"blank level0\" >&nbsp;</th>\n      <th id=\"T_f5f0a_level0_col0\" class=\"col_heading level0 col0\" >LT</th>\n      <th id=\"T_f5f0a_level0_col1\" class=\"col_heading level0 col1\" >VG</th>\n      <th id=\"T_f5f0a_level0_col2\" class=\"col_heading level0 col2\" >ER</th>\n      <th id=\"T_f5f0a_level0_col3\" class=\"col_heading level0 col3\" >Total</th>\n    </tr>\n    <tr>\n      <th class=\"index_name level0\" >Departments</th>\n      <th class=\"blank col0\" >&nbsp;</th>\n      <th class=\"blank col1\" >&nbsp;</th>\n      <th class=\"blank col2\" >&nbsp;</th>\n      <th class=\"blank col3\" >&nbsp;</th>\n    </tr>\n  </thead>\n  <tbody>\n    <tr>\n      <th id=\"T_f5f0a_level0_row0\" class=\"row_heading level0 row0\" >HR</th>\n      <td id=\"T_f5f0a_row0_col0\" class=\"data row0 col0\" >640.00</td>\n      <td id=\"T_f5f0a_row0_col1\" class=\"data row0 col1\" >80.00</td>\n      <td id=\"T_f5f0a_row0_col2\" class=\"data row0 col2\" >80.00</td>\n      <td id=\"T_f5f0a_row0_col3\" class=\"data row0 col3\" >800.00</td>\n    </tr>\n    <tr>\n      <th id=\"T_f5f0a_level0_row1\" class=\"row_heading level0 row1\" >PD</th>\n      <td id=\"T_f5f0a_row1_col0\" class=\"data row1 col0\" >525.00</td>\n      <td id=\"T_f5f0a_row1_col1\" class=\"data row1 col1\" >0.00</td>\n      <td id=\"T_f5f0a_row1_col2\" class=\"data row1 col2\" >75.00</td>\n      <td id=\"T_f5f0a_row1_col3\" class=\"data row1 col3\" >600.00</td>\n    </tr>\n    <tr>\n      <th id=\"T_f5f0a_level0_row2\" class=\"row_heading level0 row2\" >IT</th>\n      <td id=\"T_f5f0a_row2_col0\" class=\"data row2 col0\" >0.00</td>\n      <td id=\"T_f5f0a_row2_col1\" class=\"data row2 col1\" >276.92</td>\n      <td id=\"T_f5f0a_row2_col2\" class=\"data row2 col2\" >123.08</td>\n      <td id=\"T_f5f0a_row2_col3\" class=\"data row2 col3\" >400.00</td>\n    </tr>\n    <tr>\n      <th id=\"T_f5f0a_level0_row3\" class=\"row_heading level0 row3\" >MA</th>\n      <td id=\"T_f5f0a_row3_col0\" class=\"data row3 col0\" >14.29</td>\n      <td id=\"T_f5f0a_row3_col1\" class=\"data row3 col1\" >100.00</td>\n      <td id=\"T_f5f0a_row3_col2\" class=\"data row3 col2\" >85.71</td>\n      <td id=\"T_f5f0a_row3_col3\" class=\"data row3 col3\" >200.00</td>\n    </tr>\n    <tr>\n      <th id=\"T_f5f0a_level0_row4\" class=\"row_heading level0 row4\" >LT</th>\n      <td id=\"T_f5f0a_row4_col0\" class=\"data row4 col0\" >2000.00</td>\n      <td id=\"T_f5f0a_row4_col1\" class=\"data row4 col1\" >0.00</td>\n      <td id=\"T_f5f0a_row4_col2\" class=\"data row4 col2\" >0.00</td>\n      <td id=\"T_f5f0a_row4_col3\" class=\"data row4 col3\" >2000.00</td>\n    </tr>\n    <tr>\n      <th id=\"T_f5f0a_level0_row5\" class=\"row_heading level0 row5\" >VG</th>\n      <td id=\"T_f5f0a_row5_col0\" class=\"data row5 col0\" >0.00</td>\n      <td id=\"T_f5f0a_row5_col1\" class=\"data row5 col1\" >1800.00</td>\n      <td id=\"T_f5f0a_row5_col2\" class=\"data row5 col2\" >0.00</td>\n      <td id=\"T_f5f0a_row5_col3\" class=\"data row5 col3\" >1800.00</td>\n    </tr>\n    <tr>\n      <th id=\"T_f5f0a_level0_row6\" class=\"row_heading level0 row6\" >ER</th>\n      <td id=\"T_f5f0a_row6_col0\" class=\"data row6 col0\" >0.00</td>\n      <td id=\"T_f5f0a_row6_col1\" class=\"data row6 col1\" >0.00</td>\n      <td id=\"T_f5f0a_row6_col2\" class=\"data row6 col2\" >1200.00</td>\n      <td id=\"T_f5f0a_row6_col3\" class=\"data row6 col3\" >1200.00</td>\n    </tr>\n    <tr>\n      <th id=\"T_f5f0a_level0_row7\" class=\"row_heading level0 row7\" >Total</th>\n      <td id=\"T_f5f0a_row7_col0\" class=\"data row7 col0\" >3179.29</td>\n      <td id=\"T_f5f0a_row7_col1\" class=\"data row7 col1\" >2256.92</td>\n      <td id=\"T_f5f0a_row7_col2\" class=\"data row7 col2\" >1563.79</td>\n      <td id=\"T_f5f0a_row7_col3\" class=\"data row7 col3\" >7000.00</td>\n    </tr>\n  </tbody>\n</table>\n"
     },
     "execution_count": 16,
     "metadata": {},
     "output_type": "execute_result"
    }
   ],
   "source": [
    "df_direct.style.pipe(make_prettier)"
   ],
   "metadata": {
    "collapsed": false
   }
  },
  {
   "cell_type": "markdown",
   "source": [
    "### Reciprocal method  ###\n",
    "\n",
    "---\n",
    "\n",
    "Like with the step-down method, we recalculate the cost vectors. This time using matrix algebra:\n",
    "\n",
    "<br>\n",
    "\n",
    "$X = C + KX$\n",
    "\n",
    "where $X$ is the vector of true costs of the department, $C$ is the vector of upstream costs and $K$ is the upstream matrix of weights, transposed.\n",
    "\n",
    "What the above formula says: the true cost of a department are the original costs of that department **plus** the costs that other departments allocate to that department. Remember: all departments allocate costs to all departments.\n",
    "\n",
    "To give you an idea why this matrix notation: the true cost of HR ($X_{HR}$) are the original cost of HR ($C_{HR}$) plus share of the true costs that other upstream departments allocate to HR: $KX$.\n",
    "\n",
    "We can solve this in one go by rewriting $X = C + KX$ into $IX = C + KX$, where $I$ is a matrix with ones on the diagonal and zeros otherwise.\n",
    "\n",
    "Rearrange: $(I-K)X = C$\n",
    "\n",
    "And solve: $X = (I-K)^{-1}C$.\n",
    "\n",
    "We therefore only need the transposed upstream weight matrix ($K$), the original cost vector $C$, and some matrix magic to solve for the true costs of the upstream departments.\n",
    "\n",
    "Note that there are two approaches here. One is where the weight matrix includes deliveries of services to self. The diagonal and the upper left corner then features the percentage of services delivered internally. The second approach is the one where all costs are downstreamed.  The upper left corner and the diagonal of the weight matrix then feature values of -1, that is, at least for the upstream departments.\n",
    "\n",
    "Each of these approaches require a different matrix-equation to solve. The first approach solves for an adjusted negative transposed upstream weight matrix $(K \\times -1 + I)$ and $C$, where $I$ is a matrix with only ones on the diagonal. The second approach solves for the negative transposed upstream weight matrix $(K \\times -1)$ and $C$."
   ],
   "metadata": {
    "collapsed": false
   }
  },
  {
   "cell_type": "code",
   "execution_count": 17,
   "outputs": [
    {
     "data": {
      "text/plain": "Departments    HR    PD    IT    MA\nHR           1.00 -0.25 -0.20 -0.10\nPD          -0.15  1.00 -0.10 -0.05\nIT          -0.25 -0.20  1.00 -0.15\nMA          -0.10 -0.15 -0.05  1.00",
      "text/html": "<div>\n<style scoped>\n    .dataframe tbody tr th:only-of-type {\n        vertical-align: middle;\n    }\n\n    .dataframe tbody tr th {\n        vertical-align: top;\n    }\n\n    .dataframe thead th {\n        text-align: right;\n    }\n</style>\n<table border=\"1\" class=\"dataframe\">\n  <thead>\n    <tr style=\"text-align: right;\">\n      <th>Departments</th>\n      <th>HR</th>\n      <th>PD</th>\n      <th>IT</th>\n      <th>MA</th>\n    </tr>\n  </thead>\n  <tbody>\n    <tr>\n      <th>HR</th>\n      <td>1.00</td>\n      <td>-0.25</td>\n      <td>-0.20</td>\n      <td>-0.10</td>\n    </tr>\n    <tr>\n      <th>PD</th>\n      <td>-0.15</td>\n      <td>1.00</td>\n      <td>-0.10</td>\n      <td>-0.05</td>\n    </tr>\n    <tr>\n      <th>IT</th>\n      <td>-0.25</td>\n      <td>-0.20</td>\n      <td>1.00</td>\n      <td>-0.15</td>\n    </tr>\n    <tr>\n      <th>MA</th>\n      <td>-0.10</td>\n      <td>-0.15</td>\n      <td>-0.05</td>\n      <td>1.00</td>\n    </tr>\n  </tbody>\n</table>\n</div>"
     },
     "execution_count": 17,
     "metadata": {},
     "output_type": "execute_result"
    }
   ],
   "source": [
    "def get_matrix(df, lyst):\n",
    "    if df._get_value(lyst[0], lyst[0]) >= 0:\n",
    "        # Zimmerman's approach (first)\n",
    "        M = df[lyst].loc[lyst].T.mul(-1.0).add(np.diag([1] * len(lyst)))\n",
    "    else:\n",
    "        # Approach with -1 in left upper corner (Second)\n",
    "        M = df[lyst].loc[lyst].T.mul(-1.0)\n",
    "    return M\n",
    "\n",
    "M = get_matrix(dfs, upstream)\n",
    "M"
   ],
   "metadata": {
    "collapsed": false,
    "pycharm": {
     "name": "#%% Reciprocal\n"
    }
   }
  },
  {
   "cell_type": "code",
   "execution_count": 18,
   "outputs": [
    {
     "data": {
      "text/plain": "HR    1275.935639\nPD     914.985036\nIT     979.049990\nMA     513.793819\nName: Cost, dtype: float64"
     },
     "execution_count": 18,
     "metadata": {},
     "output_type": "execute_result"
    }
   ],
   "source": [
    "# Solve M and cost\n",
    "df_reci = pd.Series(np.linalg.solve(M, df_cost[upstream]), index=upstream, name = \"Cost\")\n",
    "df_reci"
   ],
   "metadata": {
    "collapsed": false
   }
  },
  {
   "cell_type": "code",
   "execution_count": 19,
   "outputs": [
    {
     "data": {
      "text/plain": "      Cost         Cost\nHR   800.0  1275.935639\nPD   600.0   914.985036\nIT   400.0   979.049990\nMA   200.0   513.793819\nLT  2000.0  2000.000000\nVG  1800.0  1800.000000\nER  1200.0  1200.000000",
      "text/html": "<div>\n<style scoped>\n    .dataframe tbody tr th:only-of-type {\n        vertical-align: middle;\n    }\n\n    .dataframe tbody tr th {\n        vertical-align: top;\n    }\n\n    .dataframe thead th {\n        text-align: right;\n    }\n</style>\n<table border=\"1\" class=\"dataframe\">\n  <thead>\n    <tr style=\"text-align: right;\">\n      <th></th>\n      <th>Cost</th>\n      <th>Cost</th>\n    </tr>\n  </thead>\n  <tbody>\n    <tr>\n      <th>HR</th>\n      <td>800.0</td>\n      <td>1275.935639</td>\n    </tr>\n    <tr>\n      <th>PD</th>\n      <td>600.0</td>\n      <td>914.985036</td>\n    </tr>\n    <tr>\n      <th>IT</th>\n      <td>400.0</td>\n      <td>979.049990</td>\n    </tr>\n    <tr>\n      <th>MA</th>\n      <td>200.0</td>\n      <td>513.793819</td>\n    </tr>\n    <tr>\n      <th>LT</th>\n      <td>2000.0</td>\n      <td>2000.000000</td>\n    </tr>\n    <tr>\n      <th>VG</th>\n      <td>1800.0</td>\n      <td>1800.000000</td>\n    </tr>\n    <tr>\n      <th>ER</th>\n      <td>1200.0</td>\n      <td>1200.000000</td>\n    </tr>\n  </tbody>\n</table>\n</div>"
     },
     "execution_count": 19,
     "metadata": {},
     "output_type": "execute_result"
    }
   ],
   "source": [
    "# compare original and true cost\n",
    "\n",
    "df_reci_cost = pd.concat([df_reci, df_cost[downstream]])\n",
    "pd.concat([df_cost, df_reci_cost], axis=1)"
   ],
   "metadata": {
    "collapsed": false
   }
  },
  {
   "cell_type": "markdown",
   "source": [
    "Get the full weight matrix:"
   ],
   "metadata": {
    "collapsed": false
   }
  },
  {
   "cell_type": "code",
   "execution_count": 20,
   "outputs": [
    {
     "data": {
      "text/plain": "               HR    PD    IT    MA    LT    VG    ER\nDepartments                                          \nHR          -1.00  0.15  0.25  0.10  0.40  0.05  0.05\nPD           0.25 -1.00  0.20  0.15  0.35  0.00  0.05\nIT           0.20  0.10 -1.00  0.05  0.00  0.45  0.20\nMA           0.10  0.05  0.15 -1.00  0.05  0.35  0.30\nLT           0.00  0.00  0.00  0.00  1.00  0.00  0.00\nVG           0.00  0.00  0.00  0.00  0.00  1.00  0.00\nER           0.00  0.00  0.00  0.00  0.00  0.00  1.00",
      "text/html": "<div>\n<style scoped>\n    .dataframe tbody tr th:only-of-type {\n        vertical-align: middle;\n    }\n\n    .dataframe tbody tr th {\n        vertical-align: top;\n    }\n\n    .dataframe thead th {\n        text-align: right;\n    }\n</style>\n<table border=\"1\" class=\"dataframe\">\n  <thead>\n    <tr style=\"text-align: right;\">\n      <th></th>\n      <th>HR</th>\n      <th>PD</th>\n      <th>IT</th>\n      <th>MA</th>\n      <th>LT</th>\n      <th>VG</th>\n      <th>ER</th>\n    </tr>\n    <tr>\n      <th>Departments</th>\n      <th></th>\n      <th></th>\n      <th></th>\n      <th></th>\n      <th></th>\n      <th></th>\n      <th></th>\n    </tr>\n  </thead>\n  <tbody>\n    <tr>\n      <th>HR</th>\n      <td>-1.00</td>\n      <td>0.15</td>\n      <td>0.25</td>\n      <td>0.10</td>\n      <td>0.40</td>\n      <td>0.05</td>\n      <td>0.05</td>\n    </tr>\n    <tr>\n      <th>PD</th>\n      <td>0.25</td>\n      <td>-1.00</td>\n      <td>0.20</td>\n      <td>0.15</td>\n      <td>0.35</td>\n      <td>0.00</td>\n      <td>0.05</td>\n    </tr>\n    <tr>\n      <th>IT</th>\n      <td>0.20</td>\n      <td>0.10</td>\n      <td>-1.00</td>\n      <td>0.05</td>\n      <td>0.00</td>\n      <td>0.45</td>\n      <td>0.20</td>\n    </tr>\n    <tr>\n      <th>MA</th>\n      <td>0.10</td>\n      <td>0.05</td>\n      <td>0.15</td>\n      <td>-1.00</td>\n      <td>0.05</td>\n      <td>0.35</td>\n      <td>0.30</td>\n    </tr>\n    <tr>\n      <th>LT</th>\n      <td>0.00</td>\n      <td>0.00</td>\n      <td>0.00</td>\n      <td>0.00</td>\n      <td>1.00</td>\n      <td>0.00</td>\n      <td>0.00</td>\n    </tr>\n    <tr>\n      <th>VG</th>\n      <td>0.00</td>\n      <td>0.00</td>\n      <td>0.00</td>\n      <td>0.00</td>\n      <td>0.00</td>\n      <td>1.00</td>\n      <td>0.00</td>\n    </tr>\n    <tr>\n      <th>ER</th>\n      <td>0.00</td>\n      <td>0.00</td>\n      <td>0.00</td>\n      <td>0.00</td>\n      <td>0.00</td>\n      <td>0.00</td>\n      <td>1.00</td>\n    </tr>\n  </tbody>\n</table>\n</div>"
     },
     "execution_count": 20,
     "metadata": {},
     "output_type": "execute_result"
    }
   ],
   "source": [
    "df_wght_matrix = dfs[dept_names].loc[dept_names]\n",
    "df_wght_matrix"
   ],
   "metadata": {
    "collapsed": false
   }
  },
  {
   "cell_type": "markdown",
   "source": [
    "And multiply by the true cost vector"
   ],
   "metadata": {
    "collapsed": false
   }
  },
  {
   "cell_type": "code",
   "execution_count": 21,
   "outputs": [
    {
     "data": {
      "text/plain": "<pandas.io.formats.style.Styler at 0x7ff2bc0282e0>",
      "text/html": "<style type=\"text/css\">\n#T_7d0cb_row0_col0, #T_7d0cb_row2_col2 {\n  background-color: #08306b;\n  color: #f1f1f1;\n}\n#T_7d0cb_row0_col1, #T_7d0cb_row2_col0, #T_7d0cb_row2_col6 {\n  background-color: #0d57a1;\n  color: #f1f1f1;\n}\n#T_7d0cb_row0_col2, #T_7d0cb_row1_col4 {\n  background-color: #105ba4;\n  color: #f1f1f1;\n}\n#T_7d0cb_row0_col3, #T_7d0cb_row1_col3, #T_7d0cb_row3_col6 {\n  background-color: #0b559f;\n  color: #f1f1f1;\n}\n#T_7d0cb_row0_col4 {\n  background-color: #1561a9;\n  color: #f1f1f1;\n}\n#T_7d0cb_row0_col5, #T_7d0cb_row0_col6, #T_7d0cb_row3_col2 {\n  background-color: #0a539e;\n  color: #f1f1f1;\n}\n#T_7d0cb_row0_col7, #T_7d0cb_row1_col5, #T_7d0cb_row1_col7, #T_7d0cb_row2_col4, #T_7d0cb_row2_col7, #T_7d0cb_row3_col1, #T_7d0cb_row3_col4, #T_7d0cb_row3_col7, #T_7d0cb_row4_col0, #T_7d0cb_row4_col1, #T_7d0cb_row4_col2, #T_7d0cb_row4_col3, #T_7d0cb_row4_col5, #T_7d0cb_row4_col6, #T_7d0cb_row5_col0, #T_7d0cb_row5_col1, #T_7d0cb_row5_col2, #T_7d0cb_row5_col3, #T_7d0cb_row5_col4, #T_7d0cb_row5_col6, #T_7d0cb_row6_col0, #T_7d0cb_row6_col1, #T_7d0cb_row6_col2, #T_7d0cb_row6_col3, #T_7d0cb_row6_col4, #T_7d0cb_row6_col5, #T_7d0cb_row7_col0, #T_7d0cb_row7_col1, #T_7d0cb_row7_col2, #T_7d0cb_row7_col3 {\n  background-color: #08519c;\n  color: #f1f1f1;\n}\n#T_7d0cb_row1_col0 {\n  background-color: #0e58a2;\n  color: #f1f1f1;\n}\n#T_7d0cb_row1_col1 {\n  background-color: #08326e;\n  color: #f1f1f1;\n}\n#T_7d0cb_row1_col2, #T_7d0cb_row3_col5 {\n  background-color: #0c56a0;\n  color: #f1f1f1;\n}\n#T_7d0cb_row1_col6, #T_7d0cb_row2_col3, #T_7d0cb_row3_col0 {\n  background-color: #09529d;\n  color: #f1f1f1;\n}\n#T_7d0cb_row2_col1 {\n  background-color: #0a549e;\n  color: #f1f1f1;\n}\n#T_7d0cb_row2_col5 {\n  background-color: #135fa7;\n  color: #f1f1f1;\n}\n#T_7d0cb_row3_col3 {\n  background-color: #084082;\n  color: #f1f1f1;\n}\n#T_7d0cb_row4_col4, #T_7d0cb_row4_col7 {\n  background-color: #4292c6;\n  color: #f1f1f1;\n}\n#T_7d0cb_row5_col5, #T_7d0cb_row5_col7 {\n  background-color: #3b8bc2;\n  color: #f1f1f1;\n}\n#T_7d0cb_row6_col6, #T_7d0cb_row6_col7 {\n  background-color: #2777b8;\n  color: #f1f1f1;\n}\n#T_7d0cb_row7_col4 {\n  background-color: #65aad4;\n  color: #f1f1f1;\n}\n#T_7d0cb_row7_col5 {\n  background-color: #56a0ce;\n  color: #f1f1f1;\n}\n#T_7d0cb_row7_col6 {\n  background-color: #3787c0;\n  color: #f1f1f1;\n}\n#T_7d0cb_row7_col7 {\n  background-color: #f7fbff;\n  color: #000000;\n}\n</style>\n<table id=\"T_7d0cb\">\n  <thead>\n    <tr>\n      <th class=\"blank level0\" >&nbsp;</th>\n      <th id=\"T_7d0cb_level0_col0\" class=\"col_heading level0 col0\" >HR</th>\n      <th id=\"T_7d0cb_level0_col1\" class=\"col_heading level0 col1\" >PD</th>\n      <th id=\"T_7d0cb_level0_col2\" class=\"col_heading level0 col2\" >IT</th>\n      <th id=\"T_7d0cb_level0_col3\" class=\"col_heading level0 col3\" >MA</th>\n      <th id=\"T_7d0cb_level0_col4\" class=\"col_heading level0 col4\" >LT</th>\n      <th id=\"T_7d0cb_level0_col5\" class=\"col_heading level0 col5\" >VG</th>\n      <th id=\"T_7d0cb_level0_col6\" class=\"col_heading level0 col6\" >ER</th>\n      <th id=\"T_7d0cb_level0_col7\" class=\"col_heading level0 col7\" >Total of rows</th>\n    </tr>\n    <tr>\n      <th class=\"index_name level0\" >Departments</th>\n      <th class=\"blank col0\" >&nbsp;</th>\n      <th class=\"blank col1\" >&nbsp;</th>\n      <th class=\"blank col2\" >&nbsp;</th>\n      <th class=\"blank col3\" >&nbsp;</th>\n      <th class=\"blank col4\" >&nbsp;</th>\n      <th class=\"blank col5\" >&nbsp;</th>\n      <th class=\"blank col6\" >&nbsp;</th>\n      <th class=\"blank col7\" >&nbsp;</th>\n    </tr>\n  </thead>\n  <tbody>\n    <tr>\n      <th id=\"T_7d0cb_level0_row0\" class=\"row_heading level0 row0\" >HR</th>\n      <td id=\"T_7d0cb_row0_col0\" class=\"data row0 col0\" >-1275.94</td>\n      <td id=\"T_7d0cb_row0_col1\" class=\"data row0 col1\" >191.39</td>\n      <td id=\"T_7d0cb_row0_col2\" class=\"data row0 col2\" >318.98</td>\n      <td id=\"T_7d0cb_row0_col3\" class=\"data row0 col3\" >127.59</td>\n      <td id=\"T_7d0cb_row0_col4\" class=\"data row0 col4\" >510.37</td>\n      <td id=\"T_7d0cb_row0_col5\" class=\"data row0 col5\" >63.80</td>\n      <td id=\"T_7d0cb_row0_col6\" class=\"data row0 col6\" >63.80</td>\n      <td id=\"T_7d0cb_row0_col7\" class=\"data row0 col7\" >0.00</td>\n    </tr>\n    <tr>\n      <th id=\"T_7d0cb_level0_row1\" class=\"row_heading level0 row1\" >PD</th>\n      <td id=\"T_7d0cb_row1_col0\" class=\"data row1 col0\" >228.75</td>\n      <td id=\"T_7d0cb_row1_col1\" class=\"data row1 col1\" >-914.99</td>\n      <td id=\"T_7d0cb_row1_col2\" class=\"data row1 col2\" >183.00</td>\n      <td id=\"T_7d0cb_row1_col3\" class=\"data row1 col3\" >137.25</td>\n      <td id=\"T_7d0cb_row1_col4\" class=\"data row1 col4\" >320.24</td>\n      <td id=\"T_7d0cb_row1_col5\" class=\"data row1 col5\" >0.00</td>\n      <td id=\"T_7d0cb_row1_col6\" class=\"data row1 col6\" >45.75</td>\n      <td id=\"T_7d0cb_row1_col7\" class=\"data row1 col7\" >-0.00</td>\n    </tr>\n    <tr>\n      <th id=\"T_7d0cb_level0_row2\" class=\"row_heading level0 row2\" >IT</th>\n      <td id=\"T_7d0cb_row2_col0\" class=\"data row2 col0\" >195.81</td>\n      <td id=\"T_7d0cb_row2_col1\" class=\"data row2 col1\" >97.90</td>\n      <td id=\"T_7d0cb_row2_col2\" class=\"data row2 col2\" >-979.05</td>\n      <td id=\"T_7d0cb_row2_col3\" class=\"data row2 col3\" >48.95</td>\n      <td id=\"T_7d0cb_row2_col4\" class=\"data row2 col4\" >0.00</td>\n      <td id=\"T_7d0cb_row2_col5\" class=\"data row2 col5\" >440.57</td>\n      <td id=\"T_7d0cb_row2_col6\" class=\"data row2 col6\" >195.81</td>\n      <td id=\"T_7d0cb_row2_col7\" class=\"data row2 col7\" >0.00</td>\n    </tr>\n    <tr>\n      <th id=\"T_7d0cb_level0_row3\" class=\"row_heading level0 row3\" >MA</th>\n      <td id=\"T_7d0cb_row3_col0\" class=\"data row3 col0\" >51.38</td>\n      <td id=\"T_7d0cb_row3_col1\" class=\"data row3 col1\" >25.69</td>\n      <td id=\"T_7d0cb_row3_col2\" class=\"data row3 col2\" >77.07</td>\n      <td id=\"T_7d0cb_row3_col3\" class=\"data row3 col3\" >-513.79</td>\n      <td id=\"T_7d0cb_row3_col4\" class=\"data row3 col4\" >25.69</td>\n      <td id=\"T_7d0cb_row3_col5\" class=\"data row3 col5\" >179.83</td>\n      <td id=\"T_7d0cb_row3_col6\" class=\"data row3 col6\" >154.14</td>\n      <td id=\"T_7d0cb_row3_col7\" class=\"data row3 col7\" >-0.00</td>\n    </tr>\n    <tr>\n      <th id=\"T_7d0cb_level0_row4\" class=\"row_heading level0 row4\" >LT</th>\n      <td id=\"T_7d0cb_row4_col0\" class=\"data row4 col0\" >0.00</td>\n      <td id=\"T_7d0cb_row4_col1\" class=\"data row4 col1\" >0.00</td>\n      <td id=\"T_7d0cb_row4_col2\" class=\"data row4 col2\" >0.00</td>\n      <td id=\"T_7d0cb_row4_col3\" class=\"data row4 col3\" >0.00</td>\n      <td id=\"T_7d0cb_row4_col4\" class=\"data row4 col4\" >2000.00</td>\n      <td id=\"T_7d0cb_row4_col5\" class=\"data row4 col5\" >0.00</td>\n      <td id=\"T_7d0cb_row4_col6\" class=\"data row4 col6\" >0.00</td>\n      <td id=\"T_7d0cb_row4_col7\" class=\"data row4 col7\" >2000.00</td>\n    </tr>\n    <tr>\n      <th id=\"T_7d0cb_level0_row5\" class=\"row_heading level0 row5\" >VG</th>\n      <td id=\"T_7d0cb_row5_col0\" class=\"data row5 col0\" >0.00</td>\n      <td id=\"T_7d0cb_row5_col1\" class=\"data row5 col1\" >0.00</td>\n      <td id=\"T_7d0cb_row5_col2\" class=\"data row5 col2\" >0.00</td>\n      <td id=\"T_7d0cb_row5_col3\" class=\"data row5 col3\" >0.00</td>\n      <td id=\"T_7d0cb_row5_col4\" class=\"data row5 col4\" >0.00</td>\n      <td id=\"T_7d0cb_row5_col5\" class=\"data row5 col5\" >1800.00</td>\n      <td id=\"T_7d0cb_row5_col6\" class=\"data row5 col6\" >0.00</td>\n      <td id=\"T_7d0cb_row5_col7\" class=\"data row5 col7\" >1800.00</td>\n    </tr>\n    <tr>\n      <th id=\"T_7d0cb_level0_row6\" class=\"row_heading level0 row6\" >ER</th>\n      <td id=\"T_7d0cb_row6_col0\" class=\"data row6 col0\" >0.00</td>\n      <td id=\"T_7d0cb_row6_col1\" class=\"data row6 col1\" >0.00</td>\n      <td id=\"T_7d0cb_row6_col2\" class=\"data row6 col2\" >0.00</td>\n      <td id=\"T_7d0cb_row6_col3\" class=\"data row6 col3\" >0.00</td>\n      <td id=\"T_7d0cb_row6_col4\" class=\"data row6 col4\" >0.00</td>\n      <td id=\"T_7d0cb_row6_col5\" class=\"data row6 col5\" >0.00</td>\n      <td id=\"T_7d0cb_row6_col6\" class=\"data row6 col6\" >1200.00</td>\n      <td id=\"T_7d0cb_row6_col7\" class=\"data row6 col7\" >1200.00</td>\n    </tr>\n    <tr>\n      <th id=\"T_7d0cb_level0_row7\" class=\"row_heading level0 row7\" >Total</th>\n      <td id=\"T_7d0cb_row7_col0\" class=\"data row7 col0\" >0.00</td>\n      <td id=\"T_7d0cb_row7_col1\" class=\"data row7 col1\" >0.00</td>\n      <td id=\"T_7d0cb_row7_col2\" class=\"data row7 col2\" >0.00</td>\n      <td id=\"T_7d0cb_row7_col3\" class=\"data row7 col3\" >0.00</td>\n      <td id=\"T_7d0cb_row7_col4\" class=\"data row7 col4\" >2856.31</td>\n      <td id=\"T_7d0cb_row7_col5\" class=\"data row7 col5\" >2484.20</td>\n      <td id=\"T_7d0cb_row7_col6\" class=\"data row7 col6\" >1659.49</td>\n      <td id=\"T_7d0cb_row7_col7\" class=\"data row7 col7\" >7000.00</td>\n    </tr>\n  </tbody>\n</table>\n"
     },
     "execution_count": 21,
     "metadata": {},
     "output_type": "execute_result"
    }
   ],
   "source": [
    "df_reciprocal = df_wght_matrix.mul(df_reci_cost, axis=0)\n",
    "df_reciprocal = total_allocations(df_reciprocal, upstream)\n",
    "df_reciprocal.style.pipe(make_prettier)"
   ],
   "metadata": {
    "collapsed": false
   }
  },
  {
   "cell_type": "code",
   "execution_count": 22,
   "outputs": [
    {
     "data": {
      "text/plain": "<pandas.io.formats.style.Styler at 0x7ff279456d00>",
      "text/html": "<style type=\"text/css\">\n#T_96f31_row0_col0, #T_96f31_row2_col2 {\n  background-color: #083674;\n  color: #f1f1f1;\n}\n#T_96f31_row0_col1 {\n  background-color: #0a549e;\n  color: #f1f1f1;\n}\n#T_96f31_row0_col2, #T_96f31_row1_col2, #T_96f31_row3_col6 {\n  background-color: #0d57a1;\n  color: #f1f1f1;\n}\n#T_96f31_row0_col3 {\n  background-color: #0a539e;\n  color: #f1f1f1;\n}\n#T_96f31_row0_col4, #T_96f31_row1_col4 {\n  background-color: #105ba4;\n  color: #f1f1f1;\n}\n#T_96f31_row0_col5, #T_96f31_row0_col6, #T_96f31_row1_col6, #T_96f31_row2_col3, #T_96f31_row3_col4 {\n  background-color: #09529d;\n  color: #f1f1f1;\n}\n#T_96f31_row0_col7, #T_96f31_row1_col0, #T_96f31_row1_col5, #T_96f31_row1_col7, #T_96f31_row2_col0, #T_96f31_row2_col1, #T_96f31_row2_col4, #T_96f31_row2_col7, #T_96f31_row3_col0, #T_96f31_row3_col1, #T_96f31_row3_col2, #T_96f31_row3_col7, #T_96f31_row4_col0, #T_96f31_row4_col1, #T_96f31_row4_col2, #T_96f31_row4_col3, #T_96f31_row4_col5, #T_96f31_row4_col6, #T_96f31_row5_col0, #T_96f31_row5_col1, #T_96f31_row5_col2, #T_96f31_row5_col3, #T_96f31_row5_col4, #T_96f31_row5_col6, #T_96f31_row6_col0, #T_96f31_row6_col1, #T_96f31_row6_col2, #T_96f31_row6_col3, #T_96f31_row6_col4, #T_96f31_row6_col5, #T_96f31_row7_col0, #T_96f31_row7_col1, #T_96f31_row7_col2, #T_96f31_row7_col3 {\n  background-color: #08519c;\n  color: #f1f1f1;\n}\n#T_96f31_row1_col1 {\n  background-color: #083877;\n  color: #f1f1f1;\n}\n#T_96f31_row1_col3 {\n  background-color: #0b559f;\n  color: #f1f1f1;\n}\n#T_96f31_row2_col5 {\n  background-color: #1561a9;\n  color: #f1f1f1;\n}\n#T_96f31_row2_col6, #T_96f31_row3_col5 {\n  background-color: #0e58a2;\n  color: #f1f1f1;\n}\n#T_96f31_row3_col3 {\n  background-color: #084184;\n  color: #f1f1f1;\n}\n#T_96f31_row4_col4, #T_96f31_row4_col7 {\n  background-color: #4292c6;\n  color: #f1f1f1;\n}\n#T_96f31_row5_col5, #T_96f31_row5_col7 {\n  background-color: #3b8bc2;\n  color: #f1f1f1;\n}\n#T_96f31_row6_col6, #T_96f31_row6_col7 {\n  background-color: #2777b8;\n  color: #f1f1f1;\n}\n#T_96f31_row7_col4 {\n  background-color: #5fa6d1;\n  color: #f1f1f1;\n}\n#T_96f31_row7_col5 {\n  background-color: #5aa2cf;\n  color: #f1f1f1;\n}\n#T_96f31_row7_col6 {\n  background-color: #3989c1;\n  color: #f1f1f1;\n}\n#T_96f31_row7_col7 {\n  background-color: #f7fbff;\n  color: #000000;\n}\n</style>\n<table id=\"T_96f31\">\n  <thead>\n    <tr>\n      <th class=\"blank level0\" >&nbsp;</th>\n      <th id=\"T_96f31_level0_col0\" class=\"col_heading level0 col0\" >HR</th>\n      <th id=\"T_96f31_level0_col1\" class=\"col_heading level0 col1\" >PD</th>\n      <th id=\"T_96f31_level0_col2\" class=\"col_heading level0 col2\" >IT</th>\n      <th id=\"T_96f31_level0_col3\" class=\"col_heading level0 col3\" >MA</th>\n      <th id=\"T_96f31_level0_col4\" class=\"col_heading level0 col4\" >LT</th>\n      <th id=\"T_96f31_level0_col5\" class=\"col_heading level0 col5\" >VG</th>\n      <th id=\"T_96f31_level0_col6\" class=\"col_heading level0 col6\" >ER</th>\n      <th id=\"T_96f31_level0_col7\" class=\"col_heading level0 col7\" >Total of rows</th>\n    </tr>\n    <tr>\n      <th class=\"index_name level0\" >Departments</th>\n      <th class=\"blank col0\" >&nbsp;</th>\n      <th class=\"blank col1\" >&nbsp;</th>\n      <th class=\"blank col2\" >&nbsp;</th>\n      <th class=\"blank col3\" >&nbsp;</th>\n      <th class=\"blank col4\" >&nbsp;</th>\n      <th class=\"blank col5\" >&nbsp;</th>\n      <th class=\"blank col6\" >&nbsp;</th>\n      <th class=\"blank col7\" >&nbsp;</th>\n    </tr>\n  </thead>\n  <tbody>\n    <tr>\n      <th id=\"T_96f31_level0_row0\" class=\"row_heading level0 row0\" >HR</th>\n      <td id=\"T_96f31_row0_col0\" class=\"data row0 col0\" >-800.00</td>\n      <td id=\"T_96f31_row0_col1\" class=\"data row0 col1\" >120.00</td>\n      <td id=\"T_96f31_row0_col2\" class=\"data row0 col2\" >200.00</td>\n      <td id=\"T_96f31_row0_col3\" class=\"data row0 col3\" >80.00</td>\n      <td id=\"T_96f31_row0_col4\" class=\"data row0 col4\" >320.00</td>\n      <td id=\"T_96f31_row0_col5\" class=\"data row0 col5\" >40.00</td>\n      <td id=\"T_96f31_row0_col6\" class=\"data row0 col6\" >40.00</td>\n      <td id=\"T_96f31_row0_col7\" class=\"data row0 col7\" >0.00</td>\n    </tr>\n    <tr>\n      <th id=\"T_96f31_level0_row1\" class=\"row_heading level0 row1\" >PD</th>\n      <td id=\"T_96f31_row1_col0\" class=\"data row1 col0\" >0.00</td>\n      <td id=\"T_96f31_row1_col1\" class=\"data row1 col1\" >-720.00</td>\n      <td id=\"T_96f31_row1_col2\" class=\"data row1 col2\" >192.00</td>\n      <td id=\"T_96f31_row1_col3\" class=\"data row1 col3\" >144.00</td>\n      <td id=\"T_96f31_row1_col4\" class=\"data row1 col4\" >336.00</td>\n      <td id=\"T_96f31_row1_col5\" class=\"data row1 col5\" >0.00</td>\n      <td id=\"T_96f31_row1_col6\" class=\"data row1 col6\" >48.00</td>\n      <td id=\"T_96f31_row1_col7\" class=\"data row1 col7\" >-0.00</td>\n    </tr>\n    <tr>\n      <th id=\"T_96f31_level0_row2\" class=\"row_heading level0 row2\" >IT</th>\n      <td id=\"T_96f31_row2_col0\" class=\"data row2 col0\" >0.00</td>\n      <td id=\"T_96f31_row2_col1\" class=\"data row2 col1\" >0.00</td>\n      <td id=\"T_96f31_row2_col2\" class=\"data row2 col2\" >-792.00</td>\n      <td id=\"T_96f31_row2_col3\" class=\"data row2 col3\" >56.57</td>\n      <td id=\"T_96f31_row2_col4\" class=\"data row2 col4\" >0.00</td>\n      <td id=\"T_96f31_row2_col5\" class=\"data row2 col5\" >509.14</td>\n      <td id=\"T_96f31_row2_col6\" class=\"data row2 col6\" >226.29</td>\n      <td id=\"T_96f31_row2_col7\" class=\"data row2 col7\" >0.00</td>\n    </tr>\n    <tr>\n      <th id=\"T_96f31_level0_row3\" class=\"row_heading level0 row3\" >MA</th>\n      <td id=\"T_96f31_row3_col0\" class=\"data row3 col0\" >0.00</td>\n      <td id=\"T_96f31_row3_col1\" class=\"data row3 col1\" >0.00</td>\n      <td id=\"T_96f31_row3_col2\" class=\"data row3 col2\" >0.00</td>\n      <td id=\"T_96f31_row3_col3\" class=\"data row3 col3\" >-480.57</td>\n      <td id=\"T_96f31_row3_col4\" class=\"data row3 col4\" >34.33</td>\n      <td id=\"T_96f31_row3_col5\" class=\"data row3 col5\" >240.29</td>\n      <td id=\"T_96f31_row3_col6\" class=\"data row3 col6\" >205.96</td>\n      <td id=\"T_96f31_row3_col7\" class=\"data row3 col7\" >0.00</td>\n    </tr>\n    <tr>\n      <th id=\"T_96f31_level0_row4\" class=\"row_heading level0 row4\" >LT</th>\n      <td id=\"T_96f31_row4_col0\" class=\"data row4 col0\" >0.00</td>\n      <td id=\"T_96f31_row4_col1\" class=\"data row4 col1\" >0.00</td>\n      <td id=\"T_96f31_row4_col2\" class=\"data row4 col2\" >0.00</td>\n      <td id=\"T_96f31_row4_col3\" class=\"data row4 col3\" >0.00</td>\n      <td id=\"T_96f31_row4_col4\" class=\"data row4 col4\" >2000.00</td>\n      <td id=\"T_96f31_row4_col5\" class=\"data row4 col5\" >0.00</td>\n      <td id=\"T_96f31_row4_col6\" class=\"data row4 col6\" >0.00</td>\n      <td id=\"T_96f31_row4_col7\" class=\"data row4 col7\" >2000.00</td>\n    </tr>\n    <tr>\n      <th id=\"T_96f31_level0_row5\" class=\"row_heading level0 row5\" >VG</th>\n      <td id=\"T_96f31_row5_col0\" class=\"data row5 col0\" >0.00</td>\n      <td id=\"T_96f31_row5_col1\" class=\"data row5 col1\" >0.00</td>\n      <td id=\"T_96f31_row5_col2\" class=\"data row5 col2\" >0.00</td>\n      <td id=\"T_96f31_row5_col3\" class=\"data row5 col3\" >0.00</td>\n      <td id=\"T_96f31_row5_col4\" class=\"data row5 col4\" >0.00</td>\n      <td id=\"T_96f31_row5_col5\" class=\"data row5 col5\" >1800.00</td>\n      <td id=\"T_96f31_row5_col6\" class=\"data row5 col6\" >0.00</td>\n      <td id=\"T_96f31_row5_col7\" class=\"data row5 col7\" >1800.00</td>\n    </tr>\n    <tr>\n      <th id=\"T_96f31_level0_row6\" class=\"row_heading level0 row6\" >ER</th>\n      <td id=\"T_96f31_row6_col0\" class=\"data row6 col0\" >0.00</td>\n      <td id=\"T_96f31_row6_col1\" class=\"data row6 col1\" >0.00</td>\n      <td id=\"T_96f31_row6_col2\" class=\"data row6 col2\" >0.00</td>\n      <td id=\"T_96f31_row6_col3\" class=\"data row6 col3\" >0.00</td>\n      <td id=\"T_96f31_row6_col4\" class=\"data row6 col4\" >0.00</td>\n      <td id=\"T_96f31_row6_col5\" class=\"data row6 col5\" >0.00</td>\n      <td id=\"T_96f31_row6_col6\" class=\"data row6 col6\" >1200.00</td>\n      <td id=\"T_96f31_row6_col7\" class=\"data row6 col7\" >1200.00</td>\n    </tr>\n    <tr>\n      <th id=\"T_96f31_level0_row7\" class=\"row_heading level0 row7\" >Total</th>\n      <td id=\"T_96f31_row7_col0\" class=\"data row7 col0\" >0.00</td>\n      <td id=\"T_96f31_row7_col1\" class=\"data row7 col1\" >0.00</td>\n      <td id=\"T_96f31_row7_col2\" class=\"data row7 col2\" >0.00</td>\n      <td id=\"T_96f31_row7_col3\" class=\"data row7 col3\" >0.00</td>\n      <td id=\"T_96f31_row7_col4\" class=\"data row7 col4\" >2690.33</td>\n      <td id=\"T_96f31_row7_col5\" class=\"data row7 col5\" >2589.43</td>\n      <td id=\"T_96f31_row7_col6\" class=\"data row7 col6\" >1720.24</td>\n      <td id=\"T_96f31_row7_col7\" class=\"data row7 col7\" >7000.00</td>\n    </tr>\n  </tbody>\n</table>\n"
     },
     "execution_count": 22,
     "metadata": {},
     "output_type": "execute_result"
    }
   ],
   "source": [
    "df_step_down.style.pipe(make_prettier)"
   ],
   "metadata": {
    "collapsed": false
   }
  },
  {
   "cell_type": "code",
   "execution_count": 23,
   "outputs": [
    {
     "data": {
      "text/plain": "<pandas.io.formats.style.Styler at 0x7ff279456250>",
      "text/html": "<style type=\"text/css\">\n#T_d64df_row0_col0, #T_d64df_row0_col1, #T_d64df_row0_col2, #T_d64df_row1_col0, #T_d64df_row1_col1, #T_d64df_row1_col2, #T_d64df_row2_col0, #T_d64df_row2_col1, #T_d64df_row2_col2 {\n  background-color: #000000;\n  color: #f1f1f1;\n}\n</style>\n<table id=\"T_d64df\">\n  <thead>\n    <tr>\n      <th class=\"blank level0\" >&nbsp;</th>\n      <th id=\"T_d64df_level0_col0\" class=\"col_heading level0 col0\" >Direct</th>\n      <th id=\"T_d64df_level0_col1\" class=\"col_heading level0 col1\" >Step-down</th>\n      <th id=\"T_d64df_level0_col2\" class=\"col_heading level0 col2\" >Reciprocal</th>\n    </tr>\n  </thead>\n  <tbody>\n    <tr>\n      <th id=\"T_d64df_level0_row0\" class=\"row_heading level0 row0\" >LT</th>\n      <td id=\"T_d64df_row0_col0\" class=\"data row0 col0\" >3179.285714</td>\n      <td id=\"T_d64df_row0_col1\" class=\"data row0 col1\" >2690.326531</td>\n      <td id=\"T_d64df_row0_col2\" class=\"data row0 col2\" >2856.308709</td>\n    </tr>\n    <tr>\n      <th id=\"T_d64df_level0_row1\" class=\"row_heading level0 row1\" >VG</th>\n      <td id=\"T_d64df_row1_col0\" class=\"data row1 col0\" >2256.923077</td>\n      <td id=\"T_d64df_row1_col1\" class=\"data row1 col1\" >2589.428571</td>\n      <td id=\"T_d64df_row1_col2\" class=\"data row1 col2\" >2484.197114</td>\n    </tr>\n    <tr>\n      <th id=\"T_d64df_level0_row2\" class=\"row_heading level0 row2\" >ER</th>\n      <td id=\"T_d64df_row2_col0\" class=\"data row2 col0\" >1563.791209</td>\n      <td id=\"T_d64df_row2_col1\" class=\"data row2 col1\" >1720.244898</td>\n      <td id=\"T_d64df_row2_col2\" class=\"data row2 col2\" >1659.494177</td>\n    </tr>\n  </tbody>\n</table>\n"
     },
     "execution_count": 23,
     "metadata": {},
     "output_type": "execute_result"
    }
   ],
   "source": [
    "df_all = pd.concat([df_direct.loc['Total'], df_step_down.loc['Total'], df_reciprocal.loc['Total']], axis=1).dropna().loc[downstream]\n",
    "df_all.columns=['Direct', 'Step-down','Reciprocal']\n",
    "df_all.style.background_gradient(axis=None, vmin=0, vmax=5, cmap=\"Greys\").format(precision=6)"
   ],
   "metadata": {
    "collapsed": false
   }
  }
 ],
 "metadata": {
  "kernelspec": {
   "display_name": "Python 3 (ipykernel)",
   "language": "python",
   "name": "python3"
  },
  "language_info": {
   "codemirror_mode": {
    "name": "ipython",
    "version": 3
   },
   "file_extension": ".py",
   "mimetype": "text/x-python",
   "name": "python",
   "nbconvert_exporter": "python",
   "pygments_lexer": "ipython3",
   "version": "3.8.13"
  }
 },
 "nbformat": 4,
 "nbformat_minor": 5
}
